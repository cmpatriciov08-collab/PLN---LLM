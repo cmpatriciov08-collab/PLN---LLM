{
  "cells": [
    {
      "cell_type": "markdown",
      "metadata": {
        "id": "vh_Bs4XdeRzQ"
      },
      "source": [
        "# Web Scraping con [Beautiful Soup](https://www.crummy.com/software/BeautifulSoup/bs4/doc/), una libreria de python\n",
        "<br><br>"
      ]
    },
    {
      "cell_type": "code",
      "source": [
        "# 2. Importamos las bibliotecas\n",
        "import requests\n",
        "from bs4 import BeautifulSoup"
      ],
      "metadata": {
        "id": "iBAMi0e6GVEM"
      },
      "execution_count": null,
      "outputs": []
    },
    {
      "cell_type": "code",
      "source": [
        "# 3. Definimos la página web que queremos analizar\n",
        "url = \"https://stackoverflow.com/questions/415511/how-to-get-the-current-time-in-python\""
      ],
      "metadata": {
        "id": "r_6Ko39zGXOH"
      },
      "execution_count": null,
      "outputs": []
    },
    {
      "cell_type": "code",
      "source": [
        "# 4. Obtenemos el contenido de la página web\n",
        "pagina = requests.get(url)\n",
        "contenido = pagina.text"
      ],
      "metadata": {
        "id": "Vky0x1eVGXGg"
      },
      "execution_count": null,
      "outputs": []
    },
    {
      "cell_type": "code",
      "source": [
        "# 5. Creamos el objeto BeautifulSoup para analizar el HTML\n",
        "soup = BeautifulSoup(contenido, 'html.parser')"
      ],
      "metadata": {
        "id": "1oiv5zeRGW6F"
      },
      "execution_count": null,
      "outputs": []
    },
    {
      "cell_type": "code",
      "source": [
        "# 6. Extraemos información básica\n",
        "# Obtenemos el título de la página\n",
        "print(\"TÍTULO DE LA PÁGINA:\")\n",
        "print(soup.title.text)\n",
        "print(\"-\" * 50)"
      ],
      "metadata": {
        "colab": {
          "base_uri": "https://localhost:8080/"
        },
        "id": "iaQMbVq1Ge8S",
        "outputId": "28a2a66e-d734-4428-cf0c-fd4db2d2cd29"
      },
      "execution_count": null,
      "outputs": [
        {
          "output_type": "stream",
          "name": "stdout",
          "text": [
            "TÍTULO DE LA PÁGINA:\n",
            "datetime - How do I get the current time in Python? - Stack Overflow\n",
            "--------------------------------------------------\n"
          ]
        }
      ]
    },
    {
      "cell_type": "code",
      "source": [
        "# 7. Extraemos la pregunta\n",
        "print(\"\\nPREGUNTA:\")\n",
        "pregunta = soup.find(\"div\", {\"class\": \"question\"})\n",
        "texto_pregunta = pregunta.find(\"div\", {\"class\": \"s-prose js-post-body\"})\n",
        "print(texto_pregunta.get_text().strip())\n",
        "print(\"-\" * 50)"
      ],
      "metadata": {
        "colab": {
          "base_uri": "https://localhost:8080/"
        },
        "id": "-mX59zYXGe4M",
        "outputId": "5d54c9ba-cec5-4792-f5d6-4123f0dcaff0"
      },
      "execution_count": null,
      "outputs": [
        {
          "output_type": "stream",
          "name": "stdout",
          "text": [
            "\n",
            "PREGUNTA:\n",
            "How do I get the current time in Python?\n",
            "--------------------------------------------------\n"
          ]
        }
      ]
    },
    {
      "cell_type": "code",
      "source": [
        "# 8. Extraemos la mejor respuesta\n",
        "print(\"\\nMEJOR RESPUESTA:\")\n",
        "respuesta = soup.find(\"div\", {\"class\": \"answer\"})\n",
        "texto_respuesta = respuesta.find(\"div\", {\"class\": \"s-prose js-post-body\"})\n",
        "print(texto_respuesta.get_text().strip())"
      ],
      "metadata": {
        "colab": {
          "base_uri": "https://localhost:8080/"
        },
        "id": "J39MsXf-GeyW",
        "outputId": "35795d0c-cc50-4643-a10e-70beb1f19152"
      },
      "execution_count": null,
      "outputs": [
        {
          "output_type": "stream",
          "name": "stdout",
          "text": [
            "\n",
            "MEJOR RESPUESTA:\n",
            "Use datetime:\n",
            ">>> import datetime\n",
            ">>> now = datetime.datetime.now()\n",
            ">>> now\n",
            "datetime.datetime(2009, 1, 6, 15, 8, 24, 78915)\n",
            ">>> print(now)\n",
            "2009-01-06 15:08:24.789150\n",
            "\n",
            "For just the clock time without the date:\n",
            ">>> now.time()\n",
            "datetime.time(15, 8, 24, 78915)\n",
            ">>> print(now.time())\n",
            "15:08:24.789150\n",
            "\n",
            "\n",
            "To save typing, you can import the datetime object from the datetime module:\n",
            ">>> from datetime import datetime\n",
            "\n",
            "Then remove the prefix datetime. from all of the above.\n"
          ]
        }
      ]
    }
  ],
  "metadata": {
    "colab": {
      "provenance": []
    },
    "kernelspec": {
      "display_name": "Python 3",
      "language": "python",
      "name": "python3"
    },
    "language_info": {
      "codemirror_mode": {
        "name": "ipython",
        "version": 3
      },
      "file_extension": ".py",
      "mimetype": "text/x-python",
      "name": "python",
      "nbconvert_exporter": "python",
      "pygments_lexer": "ipython3",
      "version": "3.7.4"
    }
  },
  "nbformat": 4,
  "nbformat_minor": 0
}