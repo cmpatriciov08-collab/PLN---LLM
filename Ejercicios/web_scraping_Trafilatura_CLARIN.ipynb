{
  "cells": [
    {
      "cell_type": "code",
      "execution_count": null,
      "metadata": {
        "colab": {
          "base_uri": "https://localhost:8080/"
        },
        "id": "9350e4d2",
        "outputId": "69719b47-1e8e-4e2a-900c-bcd4c294b9ac"
      },
      "outputs": [
        {
          "name": "stdout",
          "output_type": "stream",
          "text": [
            "Requirement already satisfied: trafilatura in c:\\python\\python310\\lib\\site-packages (2.0.0)\n",
            "Requirement already satisfied: lxml>=5.3.0 in c:\\python\\python310\\lib\\site-packages (from trafilatura) (5.4.0)\n",
            "Requirement already satisfied: courlan>=1.3.2 in c:\\python\\python310\\lib\\site-packages (from trafilatura) (1.3.2)\n",
            "Requirement already satisfied: htmldate>=1.9.2 in c:\\python\\python310\\lib\\site-packages (from trafilatura) (1.9.3)\n",
            "Requirement already satisfied: justext>=3.0.1 in c:\\python\\python310\\lib\\site-packages (from trafilatura) (3.0.2)\n",
            "Requirement already satisfied: certifi in c:\\python\\python310\\lib\\site-packages (from trafilatura) (2025.8.3)\n",
            "Requirement already satisfied: urllib3<3,>=1.26 in c:\\python\\python310\\lib\\site-packages (from trafilatura) (2.5.0)\n",
            "Requirement already satisfied: charset_normalizer>=3.4.0 in c:\\python\\python310\\lib\\site-packages (from trafilatura) (3.4.3)\n",
            "Requirement already satisfied: tld>=0.13 in c:\\python\\python310\\lib\\site-packages (from courlan>=1.3.2->trafilatura) (0.13.1)\n",
            "Requirement already satisfied: babel>=2.16.0 in c:\\python\\python310\\lib\\site-packages (from courlan>=1.3.2->trafilatura) (2.17.0)\n",
            "Requirement already satisfied: python-dateutil>=2.9.0.post0 in c:\\python\\python310\\lib\\site-packages (from htmldate>=1.9.2->trafilatura) (2.9.0.post0)\n",
            "Requirement already satisfied: dateparser>=1.1.2 in c:\\python\\python310\\lib\\site-packages (from htmldate>=1.9.2->trafilatura) (1.2.2)\n",
            "Requirement already satisfied: tzlocal>=0.2 in c:\\python\\python310\\lib\\site-packages (from dateparser>=1.1.2->htmldate>=1.9.2->trafilatura) (5.3.1)\n",
            "Requirement already satisfied: pytz>=2024.2 in c:\\python\\python310\\lib\\site-packages (from dateparser>=1.1.2->htmldate>=1.9.2->trafilatura) (2025.2)\n",
            "Requirement already satisfied: regex>=2024.9.11 in c:\\python\\python310\\lib\\site-packages (from dateparser>=1.1.2->htmldate>=1.9.2->trafilatura) (2025.7.34)\n",
            "Requirement already satisfied: six>=1.5 in c:\\python\\python310\\lib\\site-packages (from python-dateutil>=2.9.0.post0->htmldate>=1.9.2->trafilatura) (1.16.0)\n",
            "Requirement already satisfied: tzdata in c:\\python\\python310\\lib\\site-packages (from tzlocal>=0.2->dateparser>=1.1.2->htmldate>=1.9.2->trafilatura) (2024.1)\n",
            "Note: you may need to restart the kernel to use updated packages.\n"
          ]
        },
        {
          "name": "stderr",
          "output_type": "stream",
          "text": [
            "WARNING: lxml 5.4.0 does not provide the extra 'html_clean'\n",
            "\n",
            "[notice] A new release of pip is available: 23.0.1 -> 25.2\n",
            "[notice] To update, run: python.exe -m pip install --upgrade pip\n"
          ]
        }
      ],
      "source": [
        "%pip install trafilatura -q"
      ]
    },
    {
      "cell_type": "code",
      "execution_count": 18,
      "metadata": {},
      "outputs": [
        {
          "name": "stdout",
          "output_type": "stream",
          "text": [
            "Note: you may need to restart the kernel to use updated packages.\n"
          ]
        },
        {
          "name": "stderr",
          "output_type": "stream",
          "text": [
            "\n",
            "[notice] A new release of pip is available: 23.0.1 -> 25.2\n",
            "[notice] To update, run: python.exe -m pip install --upgrade pip\n"
          ]
        }
      ],
      "source": [
        "%pip install lxml_html_clean -q\n",
        "import trafilatura"
      ]
    },
    {
      "cell_type": "code",
      "execution_count": 25,
      "metadata": {},
      "outputs": [
        {
          "name": "stdout",
          "output_type": "stream",
          "text": [
            "Note: you may need to restart the kernel to use updated packages.\n"
          ]
        },
        {
          "name": "stderr",
          "output_type": "stream",
          "text": [
            "\n",
            "[notice] A new release of pip is available: 23.0.1 -> 25.2\n",
            "[notice] To update, run: python.exe -m pip install --upgrade pip\n",
            "UsageError: Line magic function `%python` not found (But cell magic `%%python` exists, did you mean that instead?).\n"
          ]
        }
      ],
      "source": [
        "# usamos spacy para interpretar los tokens y creamos el doc\n",
        "%pip install spacy -q\n",
        "%python -m spacy download es_core_news_lg -q\n",
        "\n",
        "import spacy \n",
        "from spacy.lang.es.stop_words import STOP_WORDS\n",
        "from string import punctuation\n",
        "from collections import Counter\n",
        "from heapq import nlargest"
      ]
    },
    {
      "cell_type": "code",
      "execution_count": 26,
      "metadata": {
        "colab": {
          "base_uri": "https://localhost:8080/"
        },
        "id": "aa2531b4",
        "outputId": "d3c040ea-cff0-483d-a976-610781870d53"
      },
      "outputs": [
        {
          "name": "stdout",
          "output_type": "stream",
          "text": [
            "Dos nuevos audios de Diego Spagnuolo difundidos en las últimas horas confirman que el ex funcionario estaba siendo grabado desde hace tiempo. En las nuevas filtraciones, dadas a conocer por medios afines al kirchnerismo, el ex jefe de la Agencia de Discapacidad cuestiona a ministros y hace referencias al presidente Javier Milei, aunque por temas que no pueden vincularse directamente con el escándalo de las presuntas coimas narradas en las anteriores grabaciones, ya que no queda claro el contexto de sus dichos.\n",
            "El primer fragmento lo publicó Página/12, del empresario y sindicalista Víctor Santa María. La transcripción fue la tapa del diario dominical. Y luego trascendió la grabación. Ese corte hablaba de un Federico que sería Sturzenegger, ministro de Desregulación.\n",
            "Video\n",
            "Este mismo lunes se supo de más audios. Fue Jorge Rial quien los difundió, esta vez en Radio 10, del empresario kirchnerista Cristóbal López. Allí, en la voz adjudicada a Spagnuolo se menciona a la excanciller Diana Mondino y también a Sandra, que sería Pettovello, actual ministra de Capital Humano.\n",
            "Rial no dio precisiones sobre el origen de estas nuevas grabaciones aunque sí los ubicó en tiempo. Dijo que datan \"entre agosto del año pasado y un mes, dos meses\" atrás. \"Calculamos hasta principio de este año\", precisó luego el conductor que en el streaming Carnaval también había reproducido los primeros audios del escándalo.\n",
            "\"Fijate los quilombos que están teniendo. Están teniendo quilombo grosso con Diana Mondino\", se escuchó en un primer corte. Dura apenas 4 segundos. El material no da contexto y tampoco se sabe si tiene correlato con los siguientes fragmentos -siempre adjudicados a Spagnuolo- que también se presentaron casi como frases sueltas. Ni con los de la tanda anterior.\n",
            "En el siguiente audio fraccionado se escucha: \"No, no pero igual Sandra medio me hizo una jugada a mí ¿viste? Me dejó medio... medio me dejó expuesto con Karina y con Lule. Cuando hablé con ella, fue y habló con Javier. Me dejó expuesto y después se hace la pelotuda, se borra. Ahora, salta este quilombo y no tengo cómo hablarlo. No... Esto está implosionando de adentro\".\n",
            "Karina sería Milei y Lule, Menem, mencionados en los audios previos adjudicados a Spagnuolo como parte de una trama de presuntas coimas en Discapacidad. No obstante, el corte no se sabe si previo a posterior y si las referencias al \"quilombo\" o a Pettovello tienen relación con lo expuesto antes.\n",
            "\"Medio pelotuda, también Sandra, medio pelotuda\", agrega otra audio. Y otro corte: \"Javier, desentendido de todo\".\n",
            "A diferencia de los audios breves y editados de Rial, la grabación de Spagnuolo que publicó Página/12 es de 2 minutos 55 segundos, de corrido.\n",
            "Spagnuolo parece hablar de un diálogo que tuvo con alguien que trabajaría en el ministerio de Sturzenegger. \"Le digo no, disculpame, a mí, vos me tenías que dar una mano. Bajar de alta las pensiones es mi trabajo. No. no, disculpame, a mí personalmente Federico me dijo vos me ibas a dar una mano. Decime si venís a darme una mano, si me venís a controlar, si me venís a decir cómo tengo que hacer mi trabajo\", se escucha\n",
            "El exfuncionario haría una reconstrucción de un diálogo: \"'¿Y cuál es la diferencia?'. Le digo 'si no entendés cuál es la diferencia es al pedo que tengamos esta discusión. Pero, escuchame yo acabo de llegar a un lugar donde me están esperando, la seguimos en otro momento'\".\n",
            "\"Pero, decime en cinco minutos y qué sé yo si puedo hacer esto, esto y esto. 'Mirá, lo hablamos en otro momento, tengo gente', me tuvo cinco minutos más hablando sin llegar a la nada, a lo que le terminé diciendo 'disculpame te dije que hay gente que me está esperando acá que yo terminé de hablar con vos para una reunión, ¿lo podés entender eso?'\", la voz adjudicada a Spagnuolo recrea la charla con el funcionario no nombrado.\n",
            "Y el audio sigue como si el interlocutor contara las dos campanas de la discusión reconstruida.\n",
            "-Sí, pero yo tengo que terminar de hablar con vos.\n",
            "-Es que yo ya terminé de hablar con vos y evidentemente vos sos un maleducado pero yo no quiero quedar como un maleducado con la gente.\n",
            "- Pero, yo te quiero ayudar.\n",
            "- Mañana hablamos, chau.\n",
            "\"Y le corto\", remata la voz grabada que sería de Spagnuolo, que retoma el relato. \"Una de las cosas que se había hablado era de los correos. Yo le dije que había hablado con los correos, pueden hacer esto, esto no lo pueden hacer. ¿Qué hace el flaco?\n",
            "Se puso a llamar a los correos, al Correo Argentino, Andreani y a Oca que son las tres empresas con las que yo voy a hacer la auditoría. En medio de una negociación que yo estaba teniendo, el flaco, pumba, se me mete\".\n",
            "Luego sí se menciona y critica al ministro de la motosierra. \"Hace poquito yo saqué una resolución, que la saqué yo de la ANDIS, ni se la mostré a Sturzenegger ni nada. Una resolución que le quitaba vencimientos a algunos CUDs (Certificados Únicos de Discapacidad) que, nada, a vos te falta un brazo, ese CUD no tiene vencimiento. Y Sturzenegger lo publicó como si hubiese sido una resolución de ellos. ¿Pero entendés? Es todo un desmadre que se te meten en cada... Se te meten en tu organismo. Sin estar intervenido, te intervienen\".\n",
            "Video\n",
            "En los primeros audios, a Spagnuolo se le adjudicó hablar de una trama de presuntas coimas pedidas a proveedores de la ANDIS y repartidas por uno de ellos: la Droguería Suizo Argentina, que fue allanada como el exfuncionario. En ese relato le adjudicaban \"un 3% para Karina\".\n",
            "Video\n",
            "Mediante una denuncia de Gregorio Dalbón, abogado que supo defender a Cristina Kirchner y a Julio De Vido, el fiscal Franco Picardi y el juez Sebastián Casanello ordenaron allanamientos y secuestraron celulares de exfuncionarios y dinero de empresarios, con los hermanos Jonathan y Emmanuel Kovalivker, de la droguería apuntada como intermediaria.\n",
            "DS\n",
            "Sobre la firma\n",
            "Mirá también\n",
            "Newsletter Clarín\n",
            "Recibí en tu email todas las noticias, coberturas, historias y análisis de la mano de nuestros periodistas especializados\n",
            "QUIERO RECIBIRLO\n"
          ]
        }
      ],
      "source": [
        "\n",
        "\n",
        "# Example of extracting text from a URL:\n",
        "url = \"https://www.clarin.com/politica/nuevos-audios-diego-spagnuolo-confirman-exfuncionario-discapacidad-grabado-hace-tiempo_0_gOVeNh8HYq.html\"\n",
        "downloaded = trafilatura.fetch_url(url)\n",
        "extracted_text = trafilatura.extract(downloaded)\n",
        "print(extracted_text)"
      ]
    },
    {
      "cell_type": "code",
      "execution_count": 30,
      "metadata": {},
      "outputs": [
        {
          "name": "stdout",
          "output_type": "stream",
          "text": [
            "Note: you may need to restart the kernel to use updated packages.\n"
          ]
        },
        {
          "name": "stderr",
          "output_type": "stream",
          "text": [
            "\n",
            "[notice] A new release of pip is available: 23.0.1 -> 25.2\n",
            "[notice] To update, run: python.exe -m pip install --upgrade pip\n"
          ]
        },
        {
          "name": "stdout",
          "output_type": "stream",
          "text": [
            "^C\n"
          ]
        },
        {
          "name": "stderr",
          "output_type": "stream",
          "text": [
            "\n",
            "[notice] A new release of pip is available: 23.0.1 -> 25.2\n",
            "[notice] To update, run: python.exe -m pip install --upgrade pip\n"
          ]
        },
        {
          "name": "stdout",
          "output_type": "stream",
          "text": [
            "\u001b[38;5;2m✔ Download and installation successful\u001b[0m\n",
            "You can now load the package via spacy.load('es_core_news_lg')\n"
          ]
        }
      ],
      "source": [
        "%pip install spacy -q\n",
        "!python -m spacy download es_core_news_lg -q\n",
        "\n",
        "import spacy\n",
        "\n",
        "nlp = spacy.load(\"es_core_news_lg\")\n",
        "doc = nlp(extracted_text)"
      ]
    },
    {
      "cell_type": "code",
      "execution_count": 31,
      "metadata": {
        "colab": {
          "base_uri": "https://localhost:8080/"
        },
        "id": "w8Hdnor6o7h2",
        "outputId": "1baf5497-d205-4baf-808e-b5cd49bcc69d"
      },
      "outputs": [
        {
          "name": "stdout",
          "output_type": "stream",
          "text": [
            "Dos nuevos audios de Diego Spagnuolo difundidos en las últimas horas confirman que el ex funcionario estaba siendo grabado desde hace tiempo. En las nuevas filtraciones, dadas a conocer por medios afines al kirchnerismo, el ex jefe de la Agencia de Discapacidad cuestiona a ministros y hace referencias al presidente Javier Milei, aunque por temas que no pueden vincularse directamente con el escándalo de las presuntas coimas narradas en las anteriores grabaciones, ya que no queda claro el contexto de sus dichos.\n",
            "El primer fragmento lo publicó Página/12, del empresario y sindicalista Víctor Santa María. La transcripción fue la tapa del diario dominical. Y luego trascendió la grabación. Ese corte hablaba de un Federico que sería Sturzenegger, ministro de Desregulación.\n",
            "Video\n",
            "Este mismo lunes se supo de más audios. Fue Jorge Rial quien los difundió, esta vez en Radio 10, del empresario kirchnerista Cristóbal López. Allí, en la voz adjudicada a Spagnuolo se menciona a la excanciller Diana Mondino y también a Sandra, que sería Pettovello, actual ministra de Capital Humano.\n",
            "Rial no dio precisiones sobre el origen de estas nuevas grabaciones aunque sí los ubicó en tiempo. Dijo que datan \"entre agosto del año pasado y un mes, dos meses\" atrás. \"Calculamos hasta principio de este año\", precisó luego el conductor que en el streaming Carnaval también había reproducido los primeros audios del escándalo.\n",
            "\"Fijate los quilombos que están teniendo. Están teniendo quilombo grosso con Diana Mondino\", se escuchó en un primer corte. Dura apenas 4 segundos. El material no da contexto y tampoco se sabe si tiene correlato con los siguientes fragmentos -siempre adjudicados a Spagnuolo- que también se presentaron casi como frases sueltas. Ni con los de la tanda anterior.\n",
            "En el siguiente audio fraccionado se escucha: \"No, no pero igual Sandra medio me hizo una jugada a mí ¿viste? Me dejó medio... medio me dejó expuesto con Karina y con Lule. Cuando hablé con ella, fue y habló con Javier. Me dejó expuesto y después se hace la pelotuda, se borra. Ahora, salta este quilombo y no tengo cómo hablarlo. No... Esto está implosionando de adentro\".\n",
            "Karina sería Milei y Lule, Menem, mencionados en los audios previos adjudicados a Spagnuolo como parte de una trama de presuntas coimas en Discapacidad. No obstante, el corte no se sabe si previo a posterior y si las referencias al \"quilombo\" o a Pettovello tienen relación con lo expuesto antes.\n",
            "\"Medio pelotuda, también Sandra, medio pelotuda\", agrega otra audio. Y otro corte: \"Javier, desentendido de todo\".\n",
            "A diferencia de los audios breves y editados de Rial, la grabación de Spagnuolo que publicó Página/12 es de 2 minutos 55 segundos, de corrido.\n",
            "Spagnuolo parece hablar de un diálogo que tuvo con alguien que trabajaría en el ministerio de Sturzenegger. \"Le digo no, disculpame, a mí, vos me tenías que dar una mano. Bajar de alta las pensiones es mi trabajo. No. no, disculpame, a mí personalmente Federico me dijo vos me ibas a dar una mano. Decime si venís a darme una mano, si me venís a controlar, si me venís a decir cómo tengo que hacer mi trabajo\", se escucha\n",
            "El exfuncionario haría una reconstrucción de un diálogo: \"'¿Y cuál es la diferencia?'. Le digo 'si no entendés cuál es la diferencia es al pedo que tengamos esta discusión. Pero, escuchame yo acabo de llegar a un lugar donde me están esperando, la seguimos en otro momento'\".\n",
            "\"Pero, decime en cinco minutos y qué sé yo si puedo hacer esto, esto y esto. 'Mirá, lo hablamos en otro momento, tengo gente', me tuvo cinco minutos más hablando sin llegar a la nada, a lo que le terminé diciendo 'disculpame te dije que hay gente que me está esperando acá que yo terminé de hablar con vos para una reunión, ¿lo podés entender eso?'\", la voz adjudicada a Spagnuolo recrea la charla con el funcionario no nombrado.\n",
            "Y el audio sigue como si el interlocutor contara las dos campanas de la discusión reconstruida.\n",
            "-Sí, pero yo tengo que terminar de hablar con vos.\n",
            "-Es que yo ya terminé de hablar con vos y evidentemente vos sos un maleducado pero yo no quiero quedar como un maleducado con la gente.\n",
            "- Pero, yo te quiero ayudar.\n",
            "- Mañana hablamos, chau.\n",
            "\"Y le corto\", remata la voz grabada que sería de Spagnuolo, que retoma el relato. \"Una de las cosas que se había hablado era de los correos. Yo le dije que había hablado con los correos, pueden hacer esto, esto no lo pueden hacer. ¿Qué hace el flaco?\n",
            "Se puso a llamar a los correos, al Correo Argentino, Andreani y a Oca que son las tres empresas con las que yo voy a hacer la auditoría. En medio de una negociación que yo estaba teniendo, el flaco, pumba, se me mete\".\n",
            "Luego sí se menciona y critica al ministro de la motosierra. \"Hace poquito yo saqué una resolución, que la saqué yo de la ANDIS, ni se la mostré a Sturzenegger ni nada. Una resolución que le quitaba vencimientos a algunos CUDs (Certificados Únicos de Discapacidad) que, nada, a vos te falta un brazo, ese CUD no tiene vencimiento. Y Sturzenegger lo publicó como si hubiese sido una resolución de ellos. ¿Pero entendés? Es todo un desmadre que se te meten en cada... Se te meten en tu organismo. Sin estar intervenido, te intervienen\".\n",
            "Video\n",
            "En los primeros audios, a Spagnuolo se le adjudicó hablar de una trama de presuntas coimas pedidas a proveedores de la ANDIS y repartidas por uno de ellos: la Droguería Suizo Argentina, que fue allanada como el exfuncionario. En ese relato le adjudicaban \"un 3% para Karina\".\n",
            "Video\n",
            "Mediante una denuncia de Gregorio Dalbón, abogado que supo defender a Cristina Kirchner y a Julio De Vido, el fiscal Franco Picardi y el juez Sebastián Casanello ordenaron allanamientos y secuestraron celulares de exfuncionarios y dinero de empresarios, con los hermanos Jonathan y Emmanuel Kovalivker, de la droguería apuntada como intermediaria.\n",
            "DS\n",
            "Sobre la firma\n",
            "Mirá también\n",
            "Newsletter Clarín\n",
            "Recibí en tu email todas las noticias, coberturas, historias y análisis de la mano de nuestros periodistas especializados\n",
            "QUIERO RECIBIRLO\n"
          ]
        }
      ],
      "source": [
        "print(doc)"
      ]
    },
    {
      "cell_type": "code",
      "execution_count": 32,
      "metadata": {
        "colab": {
          "base_uri": "https://localhost:8080/"
        },
        "id": "3AbUXFB9pOfN",
        "outputId": "e21a0e23-b426-4fcc-d1df-7eb9c7ff82ec"
      },
      "outputs": [
        {
          "name": "stdout",
          "output_type": "stream",
          "text": [
            "La 7ma oracion es: Fue Jorge Rial quien los difundió, esta vez en Radio 10, del empresario kirchnerista Cristóbal López.\n",
            "Sus tokens son: ['Fue', 'Jorge', 'Rial', 'quien', 'los', 'difundió', ',', 'esta', 'vez', 'en', 'Radio', '10', ',', 'del', 'empresario', 'kirchnerista', 'Cristóbal', 'López', '.']\n",
            "Tiene 19 tokens\n"
          ]
        }
      ],
      "source": [
        "# Procedemos a tomar solo una oracion/parrafo del texto extraido para analizar\n",
        "# La oracion numero 7\n",
        "seven_sentence = list(doc.sents)[7]\n",
        "print(f\"La 7ma oracion es: {seven_sentence}\")\n",
        "\n",
        "tokens = [token.text for token in seven_sentence]\n",
        "print(\"Sus tokens son:\", tokens)\n",
        "print(f\"Tiene {len(tokens)} tokens\")"
      ]
    },
    {
      "cell_type": "code",
      "execution_count": 33,
      "metadata": {
        "colab": {
          "base_uri": "https://localhost:8080/"
        },
        "id": "ImqiZ33utiyO",
        "outputId": "94676961-c0f7-43f9-dae2-0a7430604020"
      },
      "outputs": [
        {
          "name": "stdout",
          "output_type": "stream",
          "text": [
            "--- Análisis de los tokens ---\n",
            "Token           Lema            POS      ¿Stopword?   ¿Puntuación?\n",
            "-----------------------------------------------------------------\n",
            "Fue             ser             AUX      Sí           No\n",
            "Jorge           Jorge           PROPN    No           No\n",
            "Rial            Rial            PROPN    No           No\n",
            "quien           quien           PRON     Sí           No\n",
            "los             él              PRON     Sí           No\n",
            "difundió        difundir        VERB     No           No\n",
            ",               ,               PUNCT    No           Sí\n",
            "esta            este            DET      Sí           No\n",
            "vez             vez             NOUN     Sí           No\n",
            "en              en              ADP      Sí           No\n",
            "Radio           Radio           PROPN    No           No\n",
            "10              10              NUM      No           No\n",
            ",               ,               PUNCT    No           Sí\n",
            "del             del             ADP      Sí           No\n",
            "empresario      empresario      NOUN     No           No\n",
            "kirchnerista    kirchnerista    ADJ      No           No\n",
            "Cristóbal       Cristóbal       PROPN    No           No\n",
            "López           López           PROPN    No           No\n",
            ".               .               PUNCT    No           Sí\n"
          ]
        }
      ],
      "source": [
        "# Tokenization detallada y analisis de los tokens\n",
        "print(\"--- Análisis de los tokens ---\")\n",
        "print(f\"{'Token':<15} {'Lema':<15} {'POS':<8} {'¿Stopword?':<12} {'¿Puntuación?'}\")\n",
        "print(\"-\" * 65)\n",
        "\n",
        "for token in seven_sentence:\n",
        "    print(f\"{token.text:<15} {token.lemma_:<15} {token.pos_:<8} \"\n",
        "          f\"{'Sí' if token.is_stop else 'No':<12} \"\n",
        "          f\"{'Sí' if token.is_punct else 'No'}\")"
      ]
    },
    {
      "cell_type": "code",
      "execution_count": 34,
      "metadata": {
        "id": "UNP3tHIeuIgP"
      },
      "outputs": [
        {
          "name": "stdout",
          "output_type": "stream",
          "text": [
            "--- Reconocimiento de entidades nombradas ---\n"
          ]
        }
      ],
      "source": [
        "# Reconocimiento de entidades nombradas\n",
        "print(\"--- Reconocimiento de entidades nombradas ---\")\n"
      ]
    },
    {
      "cell_type": "code",
      "execution_count": 35,
      "metadata": {
        "colab": {
          "base_uri": "https://localhost:8080/"
        },
        "id": "749718aa",
        "outputId": "c14b083c-6270-4ca7-d31c-0412fff25f69"
      },
      "outputs": [
        {
          "name": "stdout",
          "output_type": "stream",
          "text": [
            "--- Reconocimiento de entidades nombradas ---\n",
            "Entidad                        Etiqueta       \n",
            "---------------------------------------------\n",
            "Jorge Rial                     PER            \n",
            "Radio 10                       ORG            \n",
            "Cristóbal López.               PER            \n"
          ]
        }
      ],
      "source": [
        "# Reconocimiento de entidades nombradas\n",
        "print(\"--- Reconocimiento de entidades nombradas ---\")\n",
        "print(f\"{'Entidad':<30} {'Etiqueta':<15}\")\n",
        "print(\"-\" * 45)\n",
        "\n",
        "for ent in seven_sentence.ents:\n",
        "    print(f\"{ent.text:<30} {ent.label_:<15}\")"
      ]
    },
    {
      "cell_type": "code",
      "execution_count": 36,
      "metadata": {
        "colab": {
          "base_uri": "https://localhost:8080/",
          "height": 87
        },
        "id": "OQLzPCcFusvP",
        "outputId": "ccf88084-08ce-4221-ac91-b27f8c21f995"
      },
      "outputs": [
        {
          "data": {
            "text/html": [
              "<span class=\"tex2jax_ignore\"><div class=\"entities\" style=\"line-height: 2.5; direction: ltr\">Fue \n",
              "<mark class=\"entity\" style=\"background: #ddd; padding: 0.45em 0.6em; margin: 0 0.25em; line-height: 1; border-radius: 0.35em;\">\n",
              "    Jorge Rial\n",
              "    <span style=\"font-size: 0.8em; font-weight: bold; line-height: 1; border-radius: 0.35em; vertical-align: middle; margin-left: 0.5rem\">PER</span>\n",
              "</mark>\n",
              " quien los difundió, esta vez en \n",
              "<mark class=\"entity\" style=\"background: #7aecec; padding: 0.45em 0.6em; margin: 0 0.25em; line-height: 1; border-radius: 0.35em;\">\n",
              "    Radio 10\n",
              "    <span style=\"font-size: 0.8em; font-weight: bold; line-height: 1; border-radius: 0.35em; vertical-align: middle; margin-left: 0.5rem\">ORG</span>\n",
              "</mark>\n",
              ", del empresario kirchnerista \n",
              "<mark class=\"entity\" style=\"background: #ddd; padding: 0.45em 0.6em; margin: 0 0.25em; line-height: 1; border-radius: 0.35em;\">\n",
              "    Cristóbal López.\n",
              "    <span style=\"font-size: 0.8em; font-weight: bold; line-height: 1; border-radius: 0.35em; vertical-align: middle; margin-left: 0.5rem\">PER</span>\n",
              "</mark>\n",
              " </div></span>"
            ],
            "text/plain": [
              "<IPython.core.display.HTML object>"
            ]
          },
          "metadata": {},
          "output_type": "display_data"
        }
      ],
      "source": [
        "# Visualizar entidades\n",
        "from spacy import displacy\n",
        "\n",
        "displacy.render(seven_sentence, style='ent', jupyter=True)"
      ]
    },
    {
      "cell_type": "code",
      "execution_count": 37,
      "metadata": {
        "colab": {
          "base_uri": "https://localhost:8080/"
        },
        "id": "18MRb0_SvY-r",
        "outputId": "4fa91298-2926-4e18-9f2f-fbbf2e996611"
      },
      "outputs": [
        {
          "name": "stdout",
          "output_type": "stream",
          "text": [
            "--- Verbos principales ---\n",
            "['difundir']\n"
          ]
        }
      ],
      "source": [
        "# Extraer los verbos principales\n",
        "print(\"--- Verbos principales ---\")\n",
        "verbs = [token.lemma_ for token in seven_sentence if token.pos_ == 'VERB']\n",
        "print(verbs)"
      ]
    },
    {
      "cell_type": "code",
      "execution_count": 38,
      "metadata": {
        "colab": {
          "base_uri": "https://localhost:8080/",
          "height": 358
        },
        "id": "UGovy2Xmv6Zk",
        "outputId": "c2631a71-fb03-45a2-eacd-3a9194324b0e"
      },
      "outputs": [
        {
          "data": {
            "text/html": [
              "<span class=\"tex2jax_ignore\"><svg xmlns=\"http://www.w3.org/2000/svg\" xmlns:xlink=\"http://www.w3.org/1999/xlink\" xml:lang=\"es\" id=\"420146bd16a04771bcd89ed24d7a4ab8-0\" class=\"displacy\" width=\"1970\" height=\"317.0\" direction=\"ltr\" style=\"max-width: none; height: 317.0px; color: #000000; background: #ffffff; font-family: Arial; direction: ltr\">\n",
              "<text class=\"displacy-token\" fill=\"currentColor\" text-anchor=\"middle\" y=\"227.0\">\n",
              "    <tspan class=\"displacy-word\" fill=\"currentColor\" x=\"50\">Fue</tspan>\n",
              "    <tspan class=\"displacy-tag\" dy=\"2em\" fill=\"currentColor\" x=\"50\">AUX</tspan>\n",
              "</text>\n",
              "\n",
              "<text class=\"displacy-token\" fill=\"currentColor\" text-anchor=\"middle\" y=\"227.0\">\n",
              "    <tspan class=\"displacy-word\" fill=\"currentColor\" x=\"170\">Jorge</tspan>\n",
              "    <tspan class=\"displacy-tag\" dy=\"2em\" fill=\"currentColor\" x=\"170\">PROPN</tspan>\n",
              "</text>\n",
              "\n",
              "<text class=\"displacy-token\" fill=\"currentColor\" text-anchor=\"middle\" y=\"227.0\">\n",
              "    <tspan class=\"displacy-word\" fill=\"currentColor\" x=\"290\">Rial</tspan>\n",
              "    <tspan class=\"displacy-tag\" dy=\"2em\" fill=\"currentColor\" x=\"290\">PROPN</tspan>\n",
              "</text>\n",
              "\n",
              "<text class=\"displacy-token\" fill=\"currentColor\" text-anchor=\"middle\" y=\"227.0\">\n",
              "    <tspan class=\"displacy-word\" fill=\"currentColor\" x=\"410\">quien</tspan>\n",
              "    <tspan class=\"displacy-tag\" dy=\"2em\" fill=\"currentColor\" x=\"410\">PRON</tspan>\n",
              "</text>\n",
              "\n",
              "<text class=\"displacy-token\" fill=\"currentColor\" text-anchor=\"middle\" y=\"227.0\">\n",
              "    <tspan class=\"displacy-word\" fill=\"currentColor\" x=\"530\">los</tspan>\n",
              "    <tspan class=\"displacy-tag\" dy=\"2em\" fill=\"currentColor\" x=\"530\">PRON</tspan>\n",
              "</text>\n",
              "\n",
              "<text class=\"displacy-token\" fill=\"currentColor\" text-anchor=\"middle\" y=\"227.0\">\n",
              "    <tspan class=\"displacy-word\" fill=\"currentColor\" x=\"650\">difundió,</tspan>\n",
              "    <tspan class=\"displacy-tag\" dy=\"2em\" fill=\"currentColor\" x=\"650\">VERB</tspan>\n",
              "</text>\n",
              "\n",
              "<text class=\"displacy-token\" fill=\"currentColor\" text-anchor=\"middle\" y=\"227.0\">\n",
              "    <tspan class=\"displacy-word\" fill=\"currentColor\" x=\"770\">esta</tspan>\n",
              "    <tspan class=\"displacy-tag\" dy=\"2em\" fill=\"currentColor\" x=\"770\">DET</tspan>\n",
              "</text>\n",
              "\n",
              "<text class=\"displacy-token\" fill=\"currentColor\" text-anchor=\"middle\" y=\"227.0\">\n",
              "    <tspan class=\"displacy-word\" fill=\"currentColor\" x=\"890\">vez</tspan>\n",
              "    <tspan class=\"displacy-tag\" dy=\"2em\" fill=\"currentColor\" x=\"890\">NOUN</tspan>\n",
              "</text>\n",
              "\n",
              "<text class=\"displacy-token\" fill=\"currentColor\" text-anchor=\"middle\" y=\"227.0\">\n",
              "    <tspan class=\"displacy-word\" fill=\"currentColor\" x=\"1010\">en</tspan>\n",
              "    <tspan class=\"displacy-tag\" dy=\"2em\" fill=\"currentColor\" x=\"1010\">ADP</tspan>\n",
              "</text>\n",
              "\n",
              "<text class=\"displacy-token\" fill=\"currentColor\" text-anchor=\"middle\" y=\"227.0\">\n",
              "    <tspan class=\"displacy-word\" fill=\"currentColor\" x=\"1130\">Radio</tspan>\n",
              "    <tspan class=\"displacy-tag\" dy=\"2em\" fill=\"currentColor\" x=\"1130\">PROPN</tspan>\n",
              "</text>\n",
              "\n",
              "<text class=\"displacy-token\" fill=\"currentColor\" text-anchor=\"middle\" y=\"227.0\">\n",
              "    <tspan class=\"displacy-word\" fill=\"currentColor\" x=\"1250\">10,</tspan>\n",
              "    <tspan class=\"displacy-tag\" dy=\"2em\" fill=\"currentColor\" x=\"1250\">NUM</tspan>\n",
              "</text>\n",
              "\n",
              "<text class=\"displacy-token\" fill=\"currentColor\" text-anchor=\"middle\" y=\"227.0\">\n",
              "    <tspan class=\"displacy-word\" fill=\"currentColor\" x=\"1370\">del</tspan>\n",
              "    <tspan class=\"displacy-tag\" dy=\"2em\" fill=\"currentColor\" x=\"1370\">ADP</tspan>\n",
              "</text>\n",
              "\n",
              "<text class=\"displacy-token\" fill=\"currentColor\" text-anchor=\"middle\" y=\"227.0\">\n",
              "    <tspan class=\"displacy-word\" fill=\"currentColor\" x=\"1490\">empresario</tspan>\n",
              "    <tspan class=\"displacy-tag\" dy=\"2em\" fill=\"currentColor\" x=\"1490\">NOUN</tspan>\n",
              "</text>\n",
              "\n",
              "<text class=\"displacy-token\" fill=\"currentColor\" text-anchor=\"middle\" y=\"227.0\">\n",
              "    <tspan class=\"displacy-word\" fill=\"currentColor\" x=\"1610\">kirchnerista</tspan>\n",
              "    <tspan class=\"displacy-tag\" dy=\"2em\" fill=\"currentColor\" x=\"1610\">ADJ</tspan>\n",
              "</text>\n",
              "\n",
              "<text class=\"displacy-token\" fill=\"currentColor\" text-anchor=\"middle\" y=\"227.0\">\n",
              "    <tspan class=\"displacy-word\" fill=\"currentColor\" x=\"1730\">Cristóbal</tspan>\n",
              "    <tspan class=\"displacy-tag\" dy=\"2em\" fill=\"currentColor\" x=\"1730\">PROPN</tspan>\n",
              "</text>\n",
              "\n",
              "<text class=\"displacy-token\" fill=\"currentColor\" text-anchor=\"middle\" y=\"227.0\">\n",
              "    <tspan class=\"displacy-word\" fill=\"currentColor\" x=\"1850\">López.</tspan>\n",
              "    <tspan class=\"displacy-tag\" dy=\"2em\" fill=\"currentColor\" x=\"1850\">PROPN</tspan>\n",
              "</text>\n",
              "\n",
              "<g class=\"displacy-arrow\">\n",
              "    <path class=\"displacy-arc\" id=\"arrow-420146bd16a04771bcd89ed24d7a4ab8-0-0\" stroke-width=\"2px\" d=\"M70,182.0 C70,122.0 160.0,122.0 160.0,182.0\" fill=\"none\" stroke=\"currentColor\"/>\n",
              "    <text dy=\"1.25em\" style=\"font-size: 0.8em; letter-spacing: 1px\">\n",
              "        <textPath xlink:href=\"#arrow-420146bd16a04771bcd89ed24d7a4ab8-0-0\" class=\"displacy-label\" startOffset=\"50%\" side=\"left\" fill=\"currentColor\" text-anchor=\"middle\">cop</textPath>\n",
              "    </text>\n",
              "    <path class=\"displacy-arrowhead\" d=\"M70,184.0 L62,172.0 78,172.0\" fill=\"currentColor\"/>\n",
              "</g>\n",
              "\n",
              "<g class=\"displacy-arrow\">\n",
              "    <path class=\"displacy-arc\" id=\"arrow-420146bd16a04771bcd89ed24d7a4ab8-0-1\" stroke-width=\"2px\" d=\"M190,182.0 C190,122.0 280.0,122.0 280.0,182.0\" fill=\"none\" stroke=\"currentColor\"/>\n",
              "    <text dy=\"1.25em\" style=\"font-size: 0.8em; letter-spacing: 1px\">\n",
              "        <textPath xlink:href=\"#arrow-420146bd16a04771bcd89ed24d7a4ab8-0-1\" class=\"displacy-label\" startOffset=\"50%\" side=\"left\" fill=\"currentColor\" text-anchor=\"middle\">flat</textPath>\n",
              "    </text>\n",
              "    <path class=\"displacy-arrowhead\" d=\"M280.0,184.0 L288.0,172.0 272.0,172.0\" fill=\"currentColor\"/>\n",
              "</g>\n",
              "\n",
              "<g class=\"displacy-arrow\">\n",
              "    <path class=\"displacy-arc\" id=\"arrow-420146bd16a04771bcd89ed24d7a4ab8-0-2\" stroke-width=\"2px\" d=\"M430,182.0 C430,62.0 645.0,62.0 645.0,182.0\" fill=\"none\" stroke=\"currentColor\"/>\n",
              "    <text dy=\"1.25em\" style=\"font-size: 0.8em; letter-spacing: 1px\">\n",
              "        <textPath xlink:href=\"#arrow-420146bd16a04771bcd89ed24d7a4ab8-0-2\" class=\"displacy-label\" startOffset=\"50%\" side=\"left\" fill=\"currentColor\" text-anchor=\"middle\">nsubj</textPath>\n",
              "    </text>\n",
              "    <path class=\"displacy-arrowhead\" d=\"M430,184.0 L422,172.0 438,172.0\" fill=\"currentColor\"/>\n",
              "</g>\n",
              "\n",
              "<g class=\"displacy-arrow\">\n",
              "    <path class=\"displacy-arc\" id=\"arrow-420146bd16a04771bcd89ed24d7a4ab8-0-3\" stroke-width=\"2px\" d=\"M550,182.0 C550,122.0 640.0,122.0 640.0,182.0\" fill=\"none\" stroke=\"currentColor\"/>\n",
              "    <text dy=\"1.25em\" style=\"font-size: 0.8em; letter-spacing: 1px\">\n",
              "        <textPath xlink:href=\"#arrow-420146bd16a04771bcd89ed24d7a4ab8-0-3\" class=\"displacy-label\" startOffset=\"50%\" side=\"left\" fill=\"currentColor\" text-anchor=\"middle\">obj</textPath>\n",
              "    </text>\n",
              "    <path class=\"displacy-arrowhead\" d=\"M550,184.0 L542,172.0 558,172.0\" fill=\"currentColor\"/>\n",
              "</g>\n",
              "\n",
              "<g class=\"displacy-arrow\">\n",
              "    <path class=\"displacy-arc\" id=\"arrow-420146bd16a04771bcd89ed24d7a4ab8-0-4\" stroke-width=\"2px\" d=\"M190,182.0 C190,2.0 650.0,2.0 650.0,182.0\" fill=\"none\" stroke=\"currentColor\"/>\n",
              "    <text dy=\"1.25em\" style=\"font-size: 0.8em; letter-spacing: 1px\">\n",
              "        <textPath xlink:href=\"#arrow-420146bd16a04771bcd89ed24d7a4ab8-0-4\" class=\"displacy-label\" startOffset=\"50%\" side=\"left\" fill=\"currentColor\" text-anchor=\"middle\">acl</textPath>\n",
              "    </text>\n",
              "    <path class=\"displacy-arrowhead\" d=\"M650.0,184.0 L658.0,172.0 642.0,172.0\" fill=\"currentColor\"/>\n",
              "</g>\n",
              "\n",
              "<g class=\"displacy-arrow\">\n",
              "    <path class=\"displacy-arc\" id=\"arrow-420146bd16a04771bcd89ed24d7a4ab8-0-5\" stroke-width=\"2px\" d=\"M790,182.0 C790,122.0 880.0,122.0 880.0,182.0\" fill=\"none\" stroke=\"currentColor\"/>\n",
              "    <text dy=\"1.25em\" style=\"font-size: 0.8em; letter-spacing: 1px\">\n",
              "        <textPath xlink:href=\"#arrow-420146bd16a04771bcd89ed24d7a4ab8-0-5\" class=\"displacy-label\" startOffset=\"50%\" side=\"left\" fill=\"currentColor\" text-anchor=\"middle\">det</textPath>\n",
              "    </text>\n",
              "    <path class=\"displacy-arrowhead\" d=\"M790,184.0 L782,172.0 798,172.0\" fill=\"currentColor\"/>\n",
              "</g>\n",
              "\n",
              "<g class=\"displacy-arrow\">\n",
              "    <path class=\"displacy-arc\" id=\"arrow-420146bd16a04771bcd89ed24d7a4ab8-0-6\" stroke-width=\"2px\" d=\"M670,182.0 C670,62.0 885.0,62.0 885.0,182.0\" fill=\"none\" stroke=\"currentColor\"/>\n",
              "    <text dy=\"1.25em\" style=\"font-size: 0.8em; letter-spacing: 1px\">\n",
              "        <textPath xlink:href=\"#arrow-420146bd16a04771bcd89ed24d7a4ab8-0-6\" class=\"displacy-label\" startOffset=\"50%\" side=\"left\" fill=\"currentColor\" text-anchor=\"middle\">obl</textPath>\n",
              "    </text>\n",
              "    <path class=\"displacy-arrowhead\" d=\"M885.0,184.0 L893.0,172.0 877.0,172.0\" fill=\"currentColor\"/>\n",
              "</g>\n",
              "\n",
              "<g class=\"displacy-arrow\">\n",
              "    <path class=\"displacy-arc\" id=\"arrow-420146bd16a04771bcd89ed24d7a4ab8-0-7\" stroke-width=\"2px\" d=\"M1030,182.0 C1030,122.0 1120.0,122.0 1120.0,182.0\" fill=\"none\" stroke=\"currentColor\"/>\n",
              "    <text dy=\"1.25em\" style=\"font-size: 0.8em; letter-spacing: 1px\">\n",
              "        <textPath xlink:href=\"#arrow-420146bd16a04771bcd89ed24d7a4ab8-0-7\" class=\"displacy-label\" startOffset=\"50%\" side=\"left\" fill=\"currentColor\" text-anchor=\"middle\">case</textPath>\n",
              "    </text>\n",
              "    <path class=\"displacy-arrowhead\" d=\"M1030,184.0 L1022,172.0 1038,172.0\" fill=\"currentColor\"/>\n",
              "</g>\n",
              "\n",
              "<g class=\"displacy-arrow\">\n",
              "    <path class=\"displacy-arc\" id=\"arrow-420146bd16a04771bcd89ed24d7a4ab8-0-8\" stroke-width=\"2px\" d=\"M910,182.0 C910,62.0 1125.0,62.0 1125.0,182.0\" fill=\"none\" stroke=\"currentColor\"/>\n",
              "    <text dy=\"1.25em\" style=\"font-size: 0.8em; letter-spacing: 1px\">\n",
              "        <textPath xlink:href=\"#arrow-420146bd16a04771bcd89ed24d7a4ab8-0-8\" class=\"displacy-label\" startOffset=\"50%\" side=\"left\" fill=\"currentColor\" text-anchor=\"middle\">nmod</textPath>\n",
              "    </text>\n",
              "    <path class=\"displacy-arrowhead\" d=\"M1125.0,184.0 L1133.0,172.0 1117.0,172.0\" fill=\"currentColor\"/>\n",
              "</g>\n",
              "\n",
              "<g class=\"displacy-arrow\">\n",
              "    <path class=\"displacy-arc\" id=\"arrow-420146bd16a04771bcd89ed24d7a4ab8-0-9\" stroke-width=\"2px\" d=\"M1150,182.0 C1150,122.0 1240.0,122.0 1240.0,182.0\" fill=\"none\" stroke=\"currentColor\"/>\n",
              "    <text dy=\"1.25em\" style=\"font-size: 0.8em; letter-spacing: 1px\">\n",
              "        <textPath xlink:href=\"#arrow-420146bd16a04771bcd89ed24d7a4ab8-0-9\" class=\"displacy-label\" startOffset=\"50%\" side=\"left\" fill=\"currentColor\" text-anchor=\"middle\">nummod</textPath>\n",
              "    </text>\n",
              "    <path class=\"displacy-arrowhead\" d=\"M1240.0,184.0 L1248.0,172.0 1232.0,172.0\" fill=\"currentColor\"/>\n",
              "</g>\n",
              "\n",
              "<g class=\"displacy-arrow\">\n",
              "    <path class=\"displacy-arc\" id=\"arrow-420146bd16a04771bcd89ed24d7a4ab8-0-10\" stroke-width=\"2px\" d=\"M1390,182.0 C1390,122.0 1480.0,122.0 1480.0,182.0\" fill=\"none\" stroke=\"currentColor\"/>\n",
              "    <text dy=\"1.25em\" style=\"font-size: 0.8em; letter-spacing: 1px\">\n",
              "        <textPath xlink:href=\"#arrow-420146bd16a04771bcd89ed24d7a4ab8-0-10\" class=\"displacy-label\" startOffset=\"50%\" side=\"left\" fill=\"currentColor\" text-anchor=\"middle\">case</textPath>\n",
              "    </text>\n",
              "    <path class=\"displacy-arrowhead\" d=\"M1390,184.0 L1382,172.0 1398,172.0\" fill=\"currentColor\"/>\n",
              "</g>\n",
              "\n",
              "<g class=\"displacy-arrow\">\n",
              "    <path class=\"displacy-arc\" id=\"arrow-420146bd16a04771bcd89ed24d7a4ab8-0-11\" stroke-width=\"2px\" d=\"M1150,182.0 C1150,62.0 1485.0,62.0 1485.0,182.0\" fill=\"none\" stroke=\"currentColor\"/>\n",
              "    <text dy=\"1.25em\" style=\"font-size: 0.8em; letter-spacing: 1px\">\n",
              "        <textPath xlink:href=\"#arrow-420146bd16a04771bcd89ed24d7a4ab8-0-11\" class=\"displacy-label\" startOffset=\"50%\" side=\"left\" fill=\"currentColor\" text-anchor=\"middle\">nmod</textPath>\n",
              "    </text>\n",
              "    <path class=\"displacy-arrowhead\" d=\"M1485.0,184.0 L1493.0,172.0 1477.0,172.0\" fill=\"currentColor\"/>\n",
              "</g>\n",
              "\n",
              "<g class=\"displacy-arrow\">\n",
              "    <path class=\"displacy-arc\" id=\"arrow-420146bd16a04771bcd89ed24d7a4ab8-0-12\" stroke-width=\"2px\" d=\"M1510,182.0 C1510,122.0 1600.0,122.0 1600.0,182.0\" fill=\"none\" stroke=\"currentColor\"/>\n",
              "    <text dy=\"1.25em\" style=\"font-size: 0.8em; letter-spacing: 1px\">\n",
              "        <textPath xlink:href=\"#arrow-420146bd16a04771bcd89ed24d7a4ab8-0-12\" class=\"displacy-label\" startOffset=\"50%\" side=\"left\" fill=\"currentColor\" text-anchor=\"middle\">amod</textPath>\n",
              "    </text>\n",
              "    <path class=\"displacy-arrowhead\" d=\"M1600.0,184.0 L1608.0,172.0 1592.0,172.0\" fill=\"currentColor\"/>\n",
              "</g>\n",
              "\n",
              "<g class=\"displacy-arrow\">\n",
              "    <path class=\"displacy-arc\" id=\"arrow-420146bd16a04771bcd89ed24d7a4ab8-0-13\" stroke-width=\"2px\" d=\"M1510,182.0 C1510,62.0 1725.0,62.0 1725.0,182.0\" fill=\"none\" stroke=\"currentColor\"/>\n",
              "    <text dy=\"1.25em\" style=\"font-size: 0.8em; letter-spacing: 1px\">\n",
              "        <textPath xlink:href=\"#arrow-420146bd16a04771bcd89ed24d7a4ab8-0-13\" class=\"displacy-label\" startOffset=\"50%\" side=\"left\" fill=\"currentColor\" text-anchor=\"middle\">appos</textPath>\n",
              "    </text>\n",
              "    <path class=\"displacy-arrowhead\" d=\"M1725.0,184.0 L1733.0,172.0 1717.0,172.0\" fill=\"currentColor\"/>\n",
              "</g>\n",
              "\n",
              "<g class=\"displacy-arrow\">\n",
              "    <path class=\"displacy-arc\" id=\"arrow-420146bd16a04771bcd89ed24d7a4ab8-0-14\" stroke-width=\"2px\" d=\"M1750,182.0 C1750,122.0 1840.0,122.0 1840.0,182.0\" fill=\"none\" stroke=\"currentColor\"/>\n",
              "    <text dy=\"1.25em\" style=\"font-size: 0.8em; letter-spacing: 1px\">\n",
              "        <textPath xlink:href=\"#arrow-420146bd16a04771bcd89ed24d7a4ab8-0-14\" class=\"displacy-label\" startOffset=\"50%\" side=\"left\" fill=\"currentColor\" text-anchor=\"middle\">flat</textPath>\n",
              "    </text>\n",
              "    <path class=\"displacy-arrowhead\" d=\"M1840.0,184.0 L1848.0,172.0 1832.0,172.0\" fill=\"currentColor\"/>\n",
              "</g>\n",
              "</svg></span>"
            ],
            "text/plain": [
              "<IPython.core.display.HTML object>"
            ]
          },
          "metadata": {},
          "output_type": "display_data"
        }
      ],
      "source": [
        "# Analizamos la estructura sintáctica de la septima oración\n",
        "displacy.render(seven_sentence, style='dep', jupyter=True, options={'distance': 120})\n"
      ]
    },
    {
      "cell_type": "code",
      "execution_count": 39,
      "metadata": {
        "colab": {
          "base_uri": "https://localhost:8080/"
        },
        "id": "8JFc0B8PwbDC",
        "outputId": "14b2d241-b0de-4a9f-bf29-8b8ca4aa945f"
      },
      "outputs": [
        {
          "name": "stdout",
          "output_type": "stream",
          "text": [
            "--- Palabras clave significativas ---\n",
            "--- Top 5 Palabras Clave ---\n",
            "  • jorge: 1 mención(es)\n",
            "  • rial: 1 mención(es)\n",
            "  • difundir: 1 mención(es)\n",
            "  • radio: 1 mención(es)\n",
            "  • empresario: 1 mención(es)\n"
          ]
        }
      ],
      "source": [
        "# Filtramos para obtener palabras clave significativas\n",
        "print(\"--- Palabras clave significativas ---\")\n",
        "palabras_clave = [\n",
        "    token.lemma_.lower() for token in seven_sentence\n",
        "    if (token.is_alpha and\n",
        "        not token.is_stop and\n",
        "        len(token.text) > 2 and\n",
        "        token.pos_ in ['NOUN', 'VERB', 'PROPN'])\n",
        "]\n",
        "\n",
        "frecuencia_palabras = Counter(palabras_clave)\n",
        "\n",
        "print(\"--- Top 5 Palabras Clave ---\")\n",
        "for palabra, freq in frecuencia_palabras.most_common(5):\n",
        "    print(f\"  • {palabra}: {freq} mención(es)\")"
      ]
    },
    {
      "cell_type": "code",
      "execution_count": 40,
      "metadata": {
        "colab": {
          "base_uri": "https://localhost:8080/",
          "height": 238
        },
        "id": "NgmslTtfwnjj",
        "outputId": "103c566b-afe5-4bc7-e1ba-ba6688937d62"
      },
      "outputs": [
        {
          "name": "stdout",
          "output_type": "stream",
          "text": [
            "--- Generando Nube de Palabras ---\n"
          ]
        },
        {
          "data": {
            "image/png": "[encoded data removed]",
            "text/plain": [
              "<Figure size 1200x600 with 1 Axes>"
            ]
          },
          "metadata": {},
          "output_type": "display_data"
        }
      ],
      "source": [
        "#Nube de palabras\n",
        "from wordcloud import WordCloud\n",
        "import matplotlib.pyplot as plt\n",
        "\n",
        "if frecuencia_palabras:\n",
        "    print(\"--- Generando Nube de Palabras ---\")\n",
        "\n",
        "    wordcloud = WordCloud(\n",
        "        width=800, height=400, background_color='white',\n",
        "        colormap='viridis', max_words=50,\n",
        "    ).generate_from_frequencies(frecuencia_palabras)\n",
        "\n",
        "    fig, ax = plt.subplots(figsize=(12, 6))\n",
        "    ax.imshow(wordcloud, interpolation='bilinear')\n",
        "    ax.set_title('Palabras Clave de la Noticia', fontsize=16)\n",
        "    ax.axis('off')\n",
        "    plt.show()"
      ]
    },
    {
      "cell_type": "code",
      "execution_count": 44,
      "metadata": {},
      "outputs": [
        {
          "name": "stdout",
          "output_type": "stream",
          "text": [
            "--- Chunks Nominales ---\n",
            "  • Fue Jorge Rial quien los difundió, esta vez en Radio 10, del empresario kirchnerista Cristóbal López. (Raíz: Jorge, Dependencia: ROOT)\n"
          ]
        }
      ],
      "source": [
        "# Extraer solo los chunks nominales\n",
        "print(\"--- Chunks Nominales ---\")\n",
        "for chunk in seven_sentence.noun_chunks:\n",
        "    print(f\"  • {chunk.text} (Raíz: {chunk.root.text}, Dependencia: {chunk.root.dep_})\")"
      ]
    },
    {
      "cell_type": "code",
      "execution_count": 1,
      "metadata": {},
      "outputs": [
        {
          "name": "stdout",
          "output_type": "stream",
          "text": [
            "--- Resumen Simple Basado en Frecuencia de Palabras ---\n"
          ]
        },
        {
          "ename": "NameError",
          "evalue": "name 'doc' is not defined",
          "output_type": "error",
          "traceback": [
            "\u001b[1;31m---------------------------------------------------------------------------\u001b[0m",
            "\u001b[1;31mNameError\u001b[0m                                 Traceback (most recent call last)",
            "Cell \u001b[1;32mIn[1], line 4\u001b[0m\n\u001b[0;32m      2\u001b[0m \u001b[38;5;28mprint\u001b[39m(\u001b[38;5;124m\"\u001b[39m\u001b[38;5;124m--- Resumen Simple Basado en Frecuencia de Palabras ---\u001b[39m\u001b[38;5;124m\"\u001b[39m)\n\u001b[0;32m      3\u001b[0m \u001b[38;5;66;03m# Dividimos el texto en oraciones\u001b[39;00m\n\u001b[1;32m----> 4\u001b[0m oraciones \u001b[38;5;241m=\u001b[39m \u001b[38;5;28mlist\u001b[39m(\u001b[43mdoc\u001b[49m\u001b[38;5;241m.\u001b[39msents)\n\u001b[0;32m      5\u001b[0m \u001b[38;5;28mprint\u001b[39m(\u001b[38;5;124mf\u001b[39m\u001b[38;5;124m\"\u001b[39m\u001b[38;5;124mEl texto tiene \u001b[39m\u001b[38;5;132;01m{\u001b[39;00m\u001b[38;5;28mlen\u001b[39m(oraciones)\u001b[38;5;132;01m}\u001b[39;00m\u001b[38;5;124m oraciones.\u001b[39m\u001b[38;5;124m\"\u001b[39m)\n",
            "\u001b[1;31mNameError\u001b[0m: name 'doc' is not defined"
          ]
        }
      ],
      "source": [
        "# Resumen simple basado en frecuencia de palabras\n",
        "print(\"--- Resumen Simple Basado en Frecuencia de Palabras ---\")\n",
        "# Dividimos el texto en oraciones\n",
        "oraciones = list(doc.sents)\n",
        "print(f\"El texto tiene {len(oraciones)} oraciones.\")"
      ]
    }
  ],
  "metadata": {
    "colab": {
      "provenance": []
    },
    "kernelspec": {
      "display_name": "Python 3",
      "name": "python3"
    },
    "language_info": {
      "codemirror_mode": {
        "name": "ipython",
        "version": 3
      },
      "file_extension": ".py",
      "mimetype": "text/x-python",
      "name": "python",
      "nbconvert_exporter": "python",
      "pygments_lexer": "ipython3",
      "version": "3.10.11"
    }
  },
  "nbformat": 4,
  "nbformat_minor": 0
}
