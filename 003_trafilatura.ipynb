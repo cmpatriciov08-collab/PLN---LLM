{
  "nbformat": 4,
  "nbformat_minor": 0,
  "metadata": {
    "colab": {
      "provenance": []
    },
    "kernelspec": {
      "name": "python3",
      "display_name": "Python 3"
    },
    "language_info": {
      "name": "python"
    }
  },
  "cells": [
    {
      "cell_type": "code",
      "metadata": {
        "id": "2c96009f",
        "colab": {
          "base_uri": "https://localhost:8080/"
        },
        "outputId": "174f169d-17c6-4b47-f706-2f08f405504f"
      },
      "source": [
        "!pip install trafilatura -q"
      ],
      "execution_count": 1,
      "outputs": [
        {
          "output_type": "stream",
          "name": "stdout",
          "text": [
            "\u001b[2K   \u001b[90m━━━━━━━━━━━━━━━━━━━━━━━━━━━━━━━━━━━━━━━━\u001b[0m \u001b[32m132.6/132.6 kB\u001b[0m \u001b[31m1.5 MB/s\u001b[0m eta \u001b[36m0:00:00\u001b[0m\n",
            "\u001b[2K   \u001b[90m━━━━━━━━━━━━━━━━━━━━━━━━━━━━━━━━━━━━━━━━\u001b[0m \u001b[32m837.9/837.9 kB\u001b[0m \u001b[31m6.1 MB/s\u001b[0m eta \u001b[36m0:00:00\u001b[0m\n",
            "\u001b[2K   \u001b[90m━━━━━━━━━━━━━━━━━━━━━━━━━━━━━━━━━━━━━━━━\u001b[0m \u001b[32m315.5/315.5 kB\u001b[0m \u001b[31m7.9 MB/s\u001b[0m eta \u001b[36m0:00:00\u001b[0m\n",
            "\u001b[2K   \u001b[90m━━━━━━━━━━━━━━━━━━━━━━━━━━━━━━━━━━━━━━━━\u001b[0m \u001b[32m274.7/274.7 kB\u001b[0m \u001b[31m8.5 MB/s\u001b[0m eta \u001b[36m0:00:00\u001b[0m\n",
            "\u001b[?25h"
          ]
        }
      ]
    },
    {
      "cell_type": "code",
      "source": [
        "import trafilatura"
      ],
      "metadata": {
        "id": "TsRc2539iHMR"
      },
      "execution_count": 2,
      "outputs": []
    },
    {
      "cell_type": "code",
      "execution_count": 3,
      "metadata": {
        "id": "h-CR7MtHiCQC"
      },
      "outputs": [],
      "source": [
        "url = \"https://www.pagina12.com.ar/849012-taylor-swift-anuncia-el-lanzamiento-de-su-nuevo-disco-the-li\""
      ]
    },
    {
      "cell_type": "code",
      "source": [
        "downloaded = trafilatura.fetch_url(url) # con fetch se pide la pagina, con get se pide pero con beautiful soup\n",
        "text = trafilatura.extract(downloaded, include_comments=False, include_images=False)\n",
        "print(text)"
      ],
      "metadata": {
        "colab": {
          "base_uri": "https://localhost:8080/"
        },
        "id": "sD053fO9ikeF",
        "outputId": "07ddcc7b-b967-457a-9f07-1c6a055eceeb"
      },
      "execution_count": 4,
      "outputs": [
        {
          "output_type": "stream",
          "name": "stdout",
          "text": [
            "Taylor Swift anunció la preventa de su nuevo álbum, titulado \"The Life of a Showgirl\". La novedad se dio a conocer esta medianoche y en su web oficial se publicaron las primeras imágenes, difuminadas, de un vinilo, un CD y un casete con un candado que no deja ver cómo será la portada porque será \"revelada en una fecha posterior\".\n",
            "Aunque se reveló el título de su nuevo trabajo de estudio, el número 12 de su carrera, no se indicó cuándo será su lanzamiento oficial. De todos modos, se anticipó que quienes compren el disco en esta preventa lo recibirán antes del 13 de octubre.\n",
            "\"Quería mostrarles algo\", publió la estrella pop estadounidense en un video publicado en su Instagram mientras, sostiene un disco de vinilo con la portada completamente borrosa.\n",
            "\"Este es mi nuevo álbum: 'The Life of a Show Girl'\", agregó en la grabación, en el podcast de su novio, el jugador de fútbol americano Travis Kelce, y su hermano, el exjugador de la NFL Jason Kelce.\n",
            "\"The Life of a Showgirl\" es el sucesor del álbum \"The Tortured Poets Department\", que se publicó el año pasado y vendió 1,4 millones de copias el primer día.\n",
            "En mayo, la ganadora de 14 premios Grammy, que mantenía una disputa con ejecutivos discográficos desde 2019 por la propiedad de su música, anunció que había comprado todo su catálogo por una suma no revelada.\n",
            "La estrella, de 35 años, viene de batir récords con su gira \"Eras\", de casi dos años de duración. Recaudó 2.000 millones de dólares en 149 conciertos en todo el mundo, lo que la convirtió en el tour más lucrativo de la historia de la música.\n"
          ]
        }
      ]
    },
    {
      "cell_type": "code",
      "metadata": {
        "colab": {
          "base_uri": "https://localhost:8080/",
          "height": 98
        },
        "id": "9f5412d9",
        "outputId": "ddaf2d97-2b45-4594-cb0e-d743ef4c3123"
      },
      "source": [
        "import pandas as pd\n",
        "import trafilatura\n",
        "\n",
        "def obtener_texto_articulo(url):\n",
        "    \"\"\"\n",
        "    Obtiene y extrae texto de una URL dada usando trafilatura.\n",
        "\n",
        "    Args:\n",
        "        url (str): La URL del artículo.\n",
        "\n",
        "    Returns:\n",
        "        str: El texto extraído del artículo, o un mensaje de error si la obtención o extracción falla.\n",
        "    \"\"\"\n",
        "    try:\n",
        "        descargado = trafilatura.fetch_url(url)\n",
        "        if descargado:\n",
        "            texto = trafilatura.extract(descargado, include_comments=False, include_images=False)\n",
        "            if texto:\n",
        "                return texto\n",
        "            else:\n",
        "                return \"No se pudo extraer texto de la URL.\"\n",
        "        else:\n",
        "            return \"No se pudo obtener la URL.\"\n",
        "    except Exception as e:\n",
        "        return f\"Ocurrió un error: {e}\"\n",
        "\n",
        "# Lista de URLs para construir el corpus (puedes modificar esta lista)\n",
        "urls = [\n",
        "    \"https://www.pagina12.com.ar/849012-taylor-swift-anuncia-el-lanzamiento-de-su-nuevo-disco-the-li\",\n",
        "    # Agrega más URLs aquí si es necesario\n",
        "]\n",
        "\n",
        "# Crear una lista para almacenar los datos\n",
        "corpus_data = []\n",
        "\n",
        "# Iterar sobre las URLs y extraer el texto\n",
        "for url in urls:\n",
        "    print(f\"Procesando: {url}\")\n",
        "    texto_extraido = obtener_texto_articulo(url)\n",
        "    corpus_data.append({'URL': url, 'Texto': texto_extraido})\n",
        "\n",
        "# Crear el DataFrame de pandas\n",
        "df_corpus = pd.DataFrame(corpus_data)\n",
        "\n",
        "# Mostrar las primeras filas del DataFrame\n",
        "display(df_corpus.head())"
      ],
      "execution_count": 7,
      "outputs": [
        {
          "output_type": "stream",
          "name": "stdout",
          "text": [
            "Procesando: https://www.pagina12.com.ar/849012-taylor-swift-anuncia-el-lanzamiento-de-su-nuevo-disco-the-li\n"
          ]
        },
        {
          "output_type": "display_data",
          "data": {
            "text/plain": [
              "                                                 URL  \\\n",
              "0  https://www.pagina12.com.ar/849012-taylor-swif...   \n",
              "\n",
              "                                               Texto  \n",
              "0  Taylor Swift anunció la preventa de su nuevo á...  "
            ],
            "text/html": [
              "\n",
              "  <div id=\"df-9bf90cbe-0b1a-4b9a-b9b9-08eba1155a4e\" class=\"colab-df-container\">\n",
              "    <div>\n",
              "<style scoped>\n",
              "    .dataframe tbody tr th:only-of-type {\n",
              "        vertical-align: middle;\n",
              "    }\n",
              "\n",
              "    .dataframe tbody tr th {\n",
              "        vertical-align: top;\n",
              "    }\n",
              "\n",
              "    .dataframe thead th {\n",
              "        text-align: right;\n",
              "    }\n",
              "</style>\n",
              "<table border=\"1\" class=\"dataframe\">\n",
              "  <thead>\n",
              "    <tr style=\"text-align: right;\">\n",
              "      <th></th>\n",
              "      <th>URL</th>\n",
              "      <th>Texto</th>\n",
              "    </tr>\n",
              "  </thead>\n",
              "  <tbody>\n",
              "    <tr>\n",
              "      <th>0</th>\n",
              "      <td>https://www.pagina12.com.ar/849012-taylor-swif...</td>\n",
              "      <td>Taylor Swift anunció la preventa de su nuevo á...</td>\n",
              "    </tr>\n",
              "  </tbody>\n",
              "</table>\n",
              "</div>\n",
              "    <div class=\"colab-df-buttons\">\n",
              "\n",
              "  <div class=\"colab-df-container\">\n",
              "    <button class=\"colab-df-convert\" onclick=\"convertToInteractive('df-9bf90cbe-0b1a-4b9a-b9b9-08eba1155a4e')\"\n",
              "            title=\"Convert this dataframe to an interactive table.\"\n",
              "            style=\"display:none;\">\n",
              "\n",
              "  <svg xmlns=\"http://www.w3.org/2000/svg\" height=\"24px\" viewBox=\"0 -960 960 960\">\n",
              "    <path d=\"M120-120v-720h720v720H120Zm60-500h600v-160H180v160Zm220 220h160v-160H400v160Zm0 220h160v-160H400v160ZM180-400h160v-160H180v160Zm440 0h160v-160H620v160ZM180-180h160v-160H180v160Zm440 0h160v-160H620v160Z\"/>\n",
              "  </svg>\n",
              "    </button>\n",
              "\n",
              "  <style>\n",
              "    .colab-df-container {\n",
              "      display:flex;\n",
              "      gap: 12px;\n",
              "    }\n",
              "\n",
              "    .colab-df-convert {\n",
              "      background-color: #E8F0FE;\n",
              "      border: none;\n",
              "      border-radius: 50%;\n",
              "      cursor: pointer;\n",
              "      display: none;\n",
              "      fill: #1967D2;\n",
              "      height: 32px;\n",
              "      padding: 0 0 0 0;\n",
              "      width: 32px;\n",
              "    }\n",
              "\n",
              "    .colab-df-convert:hover {\n",
              "      background-color: #E2EBFA;\n",
              "      box-shadow: 0px 1px 2px rgba(60, 64, 67, 0.3), 0px 1px 3px 1px rgba(60, 64, 67, 0.15);\n",
              "      fill: #174EA6;\n",
              "    }\n",
              "\n",
              "    .colab-df-buttons div {\n",
              "      margin-bottom: 4px;\n",
              "    }\n",
              "\n",
              "    [theme=dark] .colab-df-convert {\n",
              "      background-color: #3B4455;\n",
              "      fill: #D2E3FC;\n",
              "    }\n",
              "\n",
              "    [theme=dark] .colab-df-convert:hover {\n",
              "      background-color: #434B5C;\n",
              "      box-shadow: 0px 1px 3px 1px rgba(0, 0, 0, 0.15);\n",
              "      filter: drop-shadow(0px 1px 2px rgba(0, 0, 0, 0.3));\n",
              "      fill: #FFFFFF;\n",
              "    }\n",
              "  </style>\n",
              "\n",
              "    <script>\n",
              "      const buttonEl =\n",
              "        document.querySelector('#df-9bf90cbe-0b1a-4b9a-b9b9-08eba1155a4e button.colab-df-convert');\n",
              "      buttonEl.style.display =\n",
              "        google.colab.kernel.accessAllowed ? 'block' : 'none';\n",
              "\n",
              "      async function convertToInteractive(key) {\n",
              "        const element = document.querySelector('#df-9bf90cbe-0b1a-4b9a-b9b9-08eba1155a4e');\n",
              "        const dataTable =\n",
              "          await google.colab.kernel.invokeFunction('convertToInteractive',\n",
              "                                                    [key], {});\n",
              "        if (!dataTable) return;\n",
              "\n",
              "        const docLinkHtml = 'Like what you see? Visit the ' +\n",
              "          '<a target=\"_blank\" href=https://colab.research.google.com/notebooks/data_table.ipynb>data table notebook</a>'\n",
              "          + ' to learn more about interactive tables.';\n",
              "        element.innerHTML = '';\n",
              "        dataTable['output_type'] = 'display_data';\n",
              "        await google.colab.output.renderOutput(dataTable, element);\n",
              "        const docLink = document.createElement('div');\n",
              "        docLink.innerHTML = docLinkHtml;\n",
              "        element.appendChild(docLink);\n",
              "      }\n",
              "    </script>\n",
              "  </div>\n",
              "\n",
              "\n",
              "    </div>\n",
              "  </div>\n"
            ],
            "application/vnd.google.colaboratory.intrinsic+json": {
              "type": "dataframe",
              "summary": "{\n  \"name\": \"display(df_corpus\",\n  \"rows\": 1,\n  \"fields\": [\n    {\n      \"column\": \"URL\",\n      \"properties\": {\n        \"dtype\": \"string\",\n        \"num_unique_values\": 1,\n        \"samples\": [\n          \"https://www.pagina12.com.ar/849012-taylor-swift-anuncia-el-lanzamiento-de-su-nuevo-disco-the-li\"\n        ],\n        \"semantic_type\": \"\",\n        \"description\": \"\"\n      }\n    },\n    {\n      \"column\": \"Texto\",\n      \"properties\": {\n        \"dtype\": \"string\",\n        \"num_unique_values\": 1,\n        \"samples\": [\n          \"Taylor Swift anunci\\u00f3 la preventa de su nuevo \\u00e1lbum, titulado \\\"The Life of a Showgirl\\\". La novedad se dio a conocer esta medianoche y en su web oficial se publicaron las primeras im\\u00e1genes, difuminadas, de un vinilo, un CD y un casete con un candado que no deja ver c\\u00f3mo ser\\u00e1 la portada porque ser\\u00e1 \\\"revelada en una fecha posterior\\\".\\nAunque se revel\\u00f3 el t\\u00edtulo de su nuevo trabajo de estudio, el n\\u00famero 12 de su carrera, no se indic\\u00f3 cu\\u00e1ndo ser\\u00e1 su lanzamiento oficial. De todos modos, se anticip\\u00f3 que quienes compren el disco en esta preventa lo recibir\\u00e1n antes del 13 de octubre.\\n\\\"Quer\\u00eda mostrarles algo\\\", publi\\u00f3 la estrella pop estadounidense en un video publicado en su Instagram mientras, sostiene un disco de vinilo con la portada completamente borrosa.\\n\\\"Este es mi nuevo \\u00e1lbum: 'The Life of a Show Girl'\\\", agreg\\u00f3 en la grabaci\\u00f3n, en el podcast de su novio, el jugador de f\\u00fatbol americano Travis Kelce, y su hermano, el exjugador de la NFL Jason Kelce.\\n\\\"The Life of a Showgirl\\\" es el sucesor del \\u00e1lbum \\\"The Tortured Poets Department\\\", que se public\\u00f3 el a\\u00f1o pasado y vendi\\u00f3 1,4 millones de copias el primer d\\u00eda.\\nEn mayo, la ganadora de 14 premios Grammy, que manten\\u00eda una disputa con ejecutivos discogr\\u00e1ficos desde 2019 por la propiedad de su m\\u00fasica, anunci\\u00f3 que hab\\u00eda comprado todo su cat\\u00e1logo por una suma no revelada.\\nLa estrella, de 35 a\\u00f1os, viene de batir r\\u00e9cords con su gira \\\"Eras\\\", de casi dos a\\u00f1os de duraci\\u00f3n. Recaud\\u00f3 2.000 millones de d\\u00f3lares en 149 conciertos en todo el mundo, lo que la convirti\\u00f3 en el tour m\\u00e1s lucrativo de la historia de la m\\u00fasica.\"\n        ],\n        \"semantic_type\": \"\",\n        \"description\": \"\"\n      }\n    }\n  ]\n}"
            }
          },
          "metadata": {}
        }
      ]
    },
    {
      "cell_type": "code",
      "metadata": {
        "colab": {
          "base_uri": "https://localhost:8080/"
        },
        "id": "8f6e7378",
        "outputId": "9fb6b10c-4e64-46f5-c8d0-14c3a5f6b155"
      },
      "source": [
        "# Iterar sobre las filas del DataFrame e imprimir el texto completo\n",
        "for index, row in df_corpus.iterrows():\n",
        "    print(f\"--- Texto del artículo de la URL: {row['URL']} ---\")\n",
        "    print(row['Texto'])\n",
        "    print(\"-\" * 30) # Separador entre artículos"
      ],
      "execution_count": 9,
      "outputs": [
        {
          "output_type": "stream",
          "name": "stdout",
          "text": [
            "--- Texto del artículo de la URL: https://www.pagina12.com.ar/849012-taylor-swift-anuncia-el-lanzamiento-de-su-nuevo-disco-the-li ---\n",
            "Taylor Swift anunció la preventa de su nuevo álbum, titulado \"The Life of a Showgirl\". La novedad se dio a conocer esta medianoche y en su web oficial se publicaron las primeras imágenes, difuminadas, de un vinilo, un CD y un casete con un candado que no deja ver cómo será la portada porque será \"revelada en una fecha posterior\".\n",
            "Aunque se reveló el título de su nuevo trabajo de estudio, el número 12 de su carrera, no se indicó cuándo será su lanzamiento oficial. De todos modos, se anticipó que quienes compren el disco en esta preventa lo recibirán antes del 13 de octubre.\n",
            "\"Quería mostrarles algo\", publió la estrella pop estadounidense en un video publicado en su Instagram mientras, sostiene un disco de vinilo con la portada completamente borrosa.\n",
            "\"Este es mi nuevo álbum: 'The Life of a Show Girl'\", agregó en la grabación, en el podcast de su novio, el jugador de fútbol americano Travis Kelce, y su hermano, el exjugador de la NFL Jason Kelce.\n",
            "\"The Life of a Showgirl\" es el sucesor del álbum \"The Tortured Poets Department\", que se publicó el año pasado y vendió 1,4 millones de copias el primer día.\n",
            "En mayo, la ganadora de 14 premios Grammy, que mantenía una disputa con ejecutivos discográficos desde 2019 por la propiedad de su música, anunció que había comprado todo su catálogo por una suma no revelada.\n",
            "La estrella, de 35 años, viene de batir récords con su gira \"Eras\", de casi dos años de duración. Recaudó 2.000 millones de dólares en 149 conciertos en todo el mundo, lo que la convirtió en el tour más lucrativo de la historia de la música.\n",
            "------------------------------\n"
          ]
        }
      ]
    },
    {
      "cell_type": "code",
      "source": [
        "# También podes acceder al texto de un artículo específico por su índice\n",
        "# Por ejemplo, para el primer artículo (índice 0):\n",
        "print(df_corpus.loc[0, 'Texto'])"
      ],
      "metadata": {
        "colab": {
          "base_uri": "https://localhost:8080/"
        },
        "id": "K-fDxmByNj3g",
        "outputId": "003ad2e5-589f-4748-fe2e-58f0bd29e2cd"
      },
      "execution_count": 10,
      "outputs": [
        {
          "output_type": "stream",
          "name": "stdout",
          "text": [
            "Taylor Swift anunció la preventa de su nuevo álbum, titulado \"The Life of a Showgirl\". La novedad se dio a conocer esta medianoche y en su web oficial se publicaron las primeras imágenes, difuminadas, de un vinilo, un CD y un casete con un candado que no deja ver cómo será la portada porque será \"revelada en una fecha posterior\".\n",
            "Aunque se reveló el título de su nuevo trabajo de estudio, el número 12 de su carrera, no se indicó cuándo será su lanzamiento oficial. De todos modos, se anticipó que quienes compren el disco en esta preventa lo recibirán antes del 13 de octubre.\n",
            "\"Quería mostrarles algo\", publió la estrella pop estadounidense en un video publicado en su Instagram mientras, sostiene un disco de vinilo con la portada completamente borrosa.\n",
            "\"Este es mi nuevo álbum: 'The Life of a Show Girl'\", agregó en la grabación, en el podcast de su novio, el jugador de fútbol americano Travis Kelce, y su hermano, el exjugador de la NFL Jason Kelce.\n",
            "\"The Life of a Showgirl\" es el sucesor del álbum \"The Tortured Poets Department\", que se publicó el año pasado y vendió 1,4 millones de copias el primer día.\n",
            "En mayo, la ganadora de 14 premios Grammy, que mantenía una disputa con ejecutivos discográficos desde 2019 por la propiedad de su música, anunció que había comprado todo su catálogo por una suma no revelada.\n",
            "La estrella, de 35 años, viene de batir récords con su gira \"Eras\", de casi dos años de duración. Recaudó 2.000 millones de dólares en 149 conciertos en todo el mundo, lo que la convirtió en el tour más lucrativo de la historia de la música.\n"
          ]
        }
      ]
    }
  ]
}