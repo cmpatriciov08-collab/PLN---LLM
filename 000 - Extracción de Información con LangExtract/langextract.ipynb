{
  "nbformat": 4,
  "nbformat_minor": 0,
  "metadata": {
    "colab": {
      "provenance": []
    },
    "kernelspec": {
      "name": "python3",
      "display_name": "Python 3"
    },
    "language_info": {
      "name": "python"
    }
  },
  "cells": [
    {
      "cell_type": "markdown",
      "metadata": {
        "id": "b87404f1"
      },
      "source": [
        "# Introducción a la Extracción de Información con LangExtract\n",
        "\n",
        "¡Bienvenidos a la primera clase de Procesamiento del Lenguaje Natural (PLN)!\n",
        "\n",
        "En este cuaderno, exploraremos una herramienta muy útil para la extracción de información de texto: **LangExtract**. Esta librería, desarrollada por Google, aprovecha el poder de los modelos de lenguaje grandes como Gemini para identificar y extraer entidades y relaciones específicas de un texto de forma estructurada.\n",
        "\n",
        "Es importante destacar que LangExtract es una *herramienta* que facilita el proceso de extracción, pero no es una solución mágica. La calidad de la extracción depende en gran medida de la definición clara de la tarea, el diseño del prompt y la provisión de ejemplos de alta calidad.\n",
        "\n",
        "Este cuaderno servirá como una demostración práctica de cómo utilizar LangExtract para una tarea de extracción simple, mostrándoles el flujo de trabajo desde la instalación hasta la visualización de los resultados.\n",
        "\n",
        "Para más detalles sobre LangExtract, pueden consultar la siguiente referencia:\n",
        "[Introducing LangExtract: A Gemini-powered information extraction library](https://developers.googleblog.com/es/introducing-langextract-a-gemini-powered-information-extraction-library/)"
      ]
    },
    {
      "cell_type": "code",
      "metadata": {
        "id": "11a44b67",
        "colab": {
          "base_uri": "https://localhost:8080/"
        },
        "outputId": "0377c3b0-ec03-4676-aa4a-de53150e48dd"
      },
      "source": [
        "!pip install -U langextract -q"
      ],
      "execution_count": null,
      "outputs": [
        {
          "output_type": "stream",
          "name": "stdout",
          "text": [
            "\u001b[?25l   \u001b[90m━━━━━━━━━━━━━━━━━━━━━━━━━━━━━━━━━━━━━━━━\u001b[0m \u001b[32m0.0/62.7 kB\u001b[0m \u001b[31m?\u001b[0m eta \u001b[36m-:--:--\u001b[0m\r\u001b[2K   \u001b[90m━━━━━━━━━━━━━━━━━━━━━━━━━━━━━━━━━━━━━━━━\u001b[0m \u001b[32m62.7/62.7 kB\u001b[0m \u001b[31m3.3 MB/s\u001b[0m eta \u001b[36m0:00:00\u001b[0m\n",
            "\u001b[?25h\u001b[?25l   \u001b[90m━━━━━━━━━━━━━━━━━━━━━━━━━━━━━━━━━━━━━━━━\u001b[0m \u001b[32m0.0/76.7 kB\u001b[0m \u001b[31m?\u001b[0m eta \u001b[36m-:--:--\u001b[0m\r\u001b[2K   \u001b[90m━━━━━━━━━━━━━━━━━━━━━━━━━━━━━━━━━━━━━━━━\u001b[0m \u001b[32m76.7/76.7 kB\u001b[0m \u001b[31m5.7 MB/s\u001b[0m eta \u001b[36m0:00:00\u001b[0m\n",
            "\u001b[?25h"
          ]
        }
      ]
    },
    {
      "cell_type": "code",
      "source": [
        "import textwrap\n",
        "import langextract as lx\n",
        "import os\n",
        "from google.colab import userdata"
      ],
      "metadata": {
        "id": "Ea3qsrIoo-bd"
      },
      "execution_count": null,
      "outputs": []
    },
    {
      "cell_type": "code",
      "source": [
        "secret_names = ['GEMINI_API_KEY', 'GOOGLE_API_KEY']\n",
        "api_key_found = False\n",
        "\n",
        "for sn in secret_names:\n",
        "    try:\n",
        "        # Intenta obtener la clave con uno de los nombres posibles\n",
        "        api_key = userdata.get(sn)\n",
        "\n",
        "        # Si se encuentra, la asignamos a la variable de entorno que langextract espera\n",
        "        os.environ['LANGEXTRACT_API_KEY'] = api_key\n",
        "        print(f\"✅ Clave de API cargada exitosamente desde: '{sn}'\")\n",
        "        api_key_found = True\n",
        "        break # Salimos del bucle una vez que encontramos la clave\n",
        "    except userdata.SecretNotFoundError:\n",
        "        # Si no se encuentra, simplemente continúa al siguiente nombre\n",
        "        continue\n",
        "    except Exception as e:\n",
        "        print(f\"❗️ Ocurrió un error inesperado: {e}\")\n",
        "        break\n",
        "\n",
        "if not api_key_found:\n",
        "    print(\"\\n❌ ERROR: No se pudo encontrar una clave de API.\")\n",
        "    print(f\"Asegúrate de haber guardado tu clave en los secretos de Colab con uno de estos nombres: {secret_names}\")\n",
        "    print(\"Andá al panel izquierdo -> 🔑 Secretos -> Nuevo secreto.\")"
      ],
      "metadata": {
        "id": "Qt69WbzSsbnZ",
        "colab": {
          "base_uri": "https://localhost:8080/"
        },
        "outputId": "f4744672-41d7-415f-aa36-fe9c605bc902"
      },
      "execution_count": null,
      "outputs": [
        {
          "output_type": "stream",
          "name": "stdout",
          "text": [
            "✅ Clave de API cargada exitosamente desde: 'GOOGLE_API_KEY'\n"
          ]
        }
      ]
    },
    {
      "cell_type": "code",
      "source": [
        "# 1. Definir el prompt y las reglas de extracción.\n",
        "prompt = textwrap.dedent(\"\"\"\\\n",
        "    Extrae personajes, emociones y relaciones en orden de aparición.\n",
        "    Usa el texto exacto para las extracciones. No parafrasees ni superpongas entidades.\n",
        "    Proporciona atributos significativos para cada entidad para añadir contexto.\"\"\")"
      ],
      "metadata": {
        "id": "ZsdzDOp9slHz"
      },
      "execution_count": null,
      "outputs": []
    },
    {
      "cell_type": "code",
      "source": [
        "# 2. Proporcionar un ejemplo de alta calidad para guiar al modelo.\n",
        "examples = [\n",
        "    lx.data.ExampleData(\n",
        "        text=\"ROMEO. ¡Pero, silencio! ¿Qué luz alumbra esa ventana? Es el oriente, y Julieta es el sol.\",\n",
        "        extractions=[\n",
        "            lx.data.Extraction(\n",
        "                extraction_class=\"personaje\",\n",
        "                extraction_text=\"ROMEO\",\n",
        "                attributes={\"estado_emocional\": \"asombro\"}\n",
        "            ),\n",
        "            lx.data.Extraction(\n",
        "                extraction_class=\"emocion\",\n",
        "                extraction_text=\"¡Pero, silencio!\",\n",
        "                attributes={\"sentimiento\": \"admiración suave\"}\n",
        "            ),\n",
        "            lx.data.Extraction(\n",
        "                extraction_class=\"relacion\",\n",
        "                extraction_text=\"Julieta es el sol\",\n",
        "                attributes={\"tipo\": \"metáfora\"}\n",
        "            ),\n",
        "        ]\n",
        "    )\n",
        "]\n",
        "\n",
        "print(\"Definición de la tarea de extracción creada.\")"
      ],
      "metadata": {
        "id": "F5HXuwEdth0A",
        "colab": {
          "base_uri": "https://localhost:8080/"
        },
        "outputId": "0ed59c0a-b137-4de3-e7dd-99d85e881884"
      },
      "execution_count": null,
      "outputs": [
        {
          "output_type": "stream",
          "name": "stdout",
          "text": [
            "Definición de la tarea de extracción creada.\n"
          ]
        }
      ]
    },
    {
      "cell_type": "code",
      "source": [
        "# El texto de entrada a procesar.\n",
        "input_text = \"Lady Julieta contemplaba con anhelo las estrellas, su corazón dolía por Romeo\"\n",
        "\n",
        "# Ejecutar la extracción.\n",
        "# Nota: Esto hará una llamada a la API de Gemini, lo cual puede incurrir en costos.\n",
        "result = lx.extract(\n",
        "    text_or_documents=input_text,\n",
        "    prompt_description=prompt,\n",
        "    examples=examples,\n",
        "    model_id=\"gemini-1.5-flash\", # Modelo rápido y eficiente.\n",
        ")\n",
        "\n",
        "# Imprimir las extracciones para ver el resultado estructurado.\n",
        "print(\"Texto de Entrada:\")\n",
        "print(f'\"{result.text}\"\\n')\n",
        "print(\"Extracciones Encontradas:\")\n",
        "for entity in result.extractions:\n",
        "    print(f\"- Clase: {entity.extraction_class}\")\n",
        "    print(f\"  Texto: {entity.extraction_text}\")\n",
        "    if entity.attributes:\n",
        "        print(f\"  Atributos: {entity.attributes}\")\n",
        "    if entity.char_interval:\n",
        "        print(f\"  Posición: ({entity.char_interval.start_pos}-{entity.char_interval.end_pos})\\n\")"
      ],
      "metadata": {
        "id": "EI-P6vSAsoIP",
        "colab": {
          "base_uri": "https://localhost:8080/"
        },
        "outputId": "01a2309c-713e-45de-d67d-2d1d5ac5626e"
      },
      "execution_count": null,
      "outputs": [
        {
          "output_type": "stream",
          "name": "stderr",
          "text": [
            "\u001b[94m\u001b[1mLangExtract\u001b[0m: model=\u001b[92mgemini-1.5-flash\u001b[0m, current=\u001b[92m77\u001b[0m chars, processed=\u001b[92m77\u001b[0m chars:  [00:01]"
          ]
        },
        {
          "output_type": "stream",
          "name": "stdout",
          "text": [
            "\u001b[92m✓\u001b[0m Extraction processing complete\n",
            "\u001b[92m✓\u001b[0m Extracted \u001b[1m3\u001b[0m entities (\u001b[1m3\u001b[0m unique types)\n",
            "  \u001b[96m•\u001b[0m Time: \u001b[1m1.19s\u001b[0m\n",
            "  \u001b[96m•\u001b[0m Speed: \u001b[1m65\u001b[0m chars/sec\n",
            "  \u001b[96m•\u001b[0m Chunks: \u001b[1m1\u001b[0m\n",
            "Texto de Entrada:\n",
            "\"Lady Julieta contemplaba con anhelo las estrellas, su corazón dolía por Romeo\"\n",
            "\n",
            "Extracciones Encontradas:\n",
            "- Clase: personaje\n",
            "  Texto: Lady Julieta\n",
            "  Atributos: {'estado_emocional': 'anhelo'}\n",
            "  Posición: (0-12)\n",
            "\n",
            "- Clase: emocion\n",
            "  Texto: su corazón dolía\n",
            "  Atributos: {'sentimiento': 'dolor'}\n",
            "  Posición: (51-67)\n",
            "\n",
            "- Clase: relacion\n",
            "  Texto: por Romeo\n",
            "  Atributos: {'tipo': 'amor'}\n",
            "  Posición: (68-77)\n",
            "\n"
          ]
        },
        {
          "output_type": "stream",
          "name": "stderr",
          "text": [
            "\n"
          ]
        }
      ]
    },
    {
      "cell_type": "code",
      "source": [
        "from IPython.display import display, HTML\n",
        "\n",
        "# Guardar los resultados en un archivo JSONL en memoria (opcional, pero es un buen hábito/buena practica).\n",
        "# Para la visualización, necesitamos guardar y luego cargar el archivo.\n",
        "output_dir = \"/content/langextract_output\"\n",
        "os.makedirs(output_dir, exist_ok=True)\n",
        "lx.io.save_annotated_documents([result], output_name=\"extraction_results.jsonl\", output_dir=output_dir)\n",
        "\n",
        "# Generar el contenido HTML desde el archivo de resultados.\n",
        "html_content = lx.visualize(f\"{output_dir}/extraction_results.jsonl\")\n",
        "\n",
        "# Mostrar la visualización interactiva en la celda de Colab.\n",
        "display(html_content)"
      ],
      "metadata": {
        "id": "tdFvKOXFssSe",
        "colab": {
          "base_uri": "https://localhost:8080/",
          "height": 436
        },
        "outputId": "eadd5ab2-f461-4eb5-c056-d2f905de0dc0"
      },
      "execution_count": null,
      "outputs": [
        {
          "output_type": "stream",
          "name": "stderr",
          "text": [
            "\u001b[94m\u001b[1mLangExtract\u001b[0m: Saving to \u001b[92mextraction_results.jsonl\u001b[0m: 1 docs [00:00, 1047.01 docs/s]"
          ]
        },
        {
          "output_type": "stream",
          "name": "stdout",
          "text": [
            "\u001b[92m✓\u001b[0m Saved \u001b[1m1\u001b[0m documents to \u001b[92mextraction_results.jsonl\u001b[0m\n"
          ]
        },
        {
          "output_type": "stream",
          "name": "stderr",
          "text": [
            "\n",
            "\u001b[94m\u001b[1mLangExtract\u001b[0m: Loading \u001b[92mextraction_results.jsonl\u001b[0m: 100%|██████████| 911/911 [00:00<00:00, 1.65MB/s]"
          ]
        },
        {
          "output_type": "stream",
          "name": "stdout",
          "text": [
            "\u001b[92m✓\u001b[0m Loaded \u001b[1m1\u001b[0m documents from \u001b[92mextraction_results.jsonl\u001b[0m\n"
          ]
        },
        {
          "output_type": "stream",
          "name": "stderr",
          "text": [
            "\n"
          ]
        },
        {
          "output_type": "display_data",
          "data": {
            "text/plain": [
              "<IPython.core.display.HTML object>"
            ],
            "text/html": [
              "<style>\n",
              ".lx-highlight { position: relative; border-radius:3px; padding:1px 2px;}\n",
              ".lx-highlight .lx-tooltip {\n",
              "  visibility: hidden;\n",
              "  opacity: 0;\n",
              "  transition: opacity 0.2s ease-in-out;\n",
              "  background: #333;\n",
              "  color: #fff;\n",
              "  text-align: left;\n",
              "  border-radius: 4px;\n",
              "  padding: 6px 8px;\n",
              "  position: absolute;\n",
              "  z-index: 1000;\n",
              "  bottom: 125%;\n",
              "  left: 50%;\n",
              "  transform: translateX(-50%);\n",
              "  font-size: 12px;\n",
              "  max-width: 240px;\n",
              "  white-space: normal;\n",
              "  box-shadow: 0 2px 6px rgba(0,0,0,0.3);\n",
              "}\n",
              ".lx-highlight:hover .lx-tooltip { visibility: visible; opacity:1; }\n",
              ".lx-animated-wrapper { max-width: 100%; font-family: Arial, sans-serif; }\n",
              ".lx-controls {\n",
              "  background: #fafafa; border: 1px solid #90caf9; border-radius: 8px;\n",
              "  padding: 12px; margin-bottom: 16px;\n",
              "}\n",
              ".lx-button-row {\n",
              "  display: flex; justify-content: center; gap: 8px; margin-bottom: 12px;\n",
              "}\n",
              ".lx-control-btn {\n",
              "  background: #4285f4; color: white; border: none; border-radius: 4px;\n",
              "  padding: 8px 16px; cursor: pointer; font-size: 13px; font-weight: 500;\n",
              "  transition: background-color 0.2s;\n",
              "}\n",
              ".lx-control-btn:hover { background: #3367d6; }\n",
              ".lx-progress-container {\n",
              "  margin-bottom: 8px;\n",
              "}\n",
              ".lx-progress-slider {\n",
              "  width: 100%; margin: 0; appearance: none; height: 6px;\n",
              "  background: #ddd; border-radius: 3px; outline: none;\n",
              "}\n",
              ".lx-progress-slider::-webkit-slider-thumb {\n",
              "  appearance: none; width: 18px; height: 18px; background: #4285f4;\n",
              "  border-radius: 50%; cursor: pointer;\n",
              "}\n",
              ".lx-progress-slider::-moz-range-thumb {\n",
              "  width: 18px; height: 18px; background: #4285f4; border-radius: 50%;\n",
              "  cursor: pointer; border: none;\n",
              "}\n",
              ".lx-status-text {\n",
              "  text-align: center; font-size: 12px; color: #666; margin-top: 4px;\n",
              "}\n",
              ".lx-text-window {\n",
              "  font-family: monospace; white-space: pre-wrap; border: 1px solid #90caf9;\n",
              "  padding: 12px; max-height: 260px; overflow-y: auto; margin-bottom: 12px;\n",
              "  line-height: 1.6;\n",
              "}\n",
              ".lx-attributes-panel {\n",
              "  background: #fafafa; border: 1px solid #90caf9; border-radius: 6px;\n",
              "  padding: 8px 10px; margin-top: 8px; font-size: 13px;\n",
              "}\n",
              ".lx-current-highlight {\n",
              "  border-bottom: 4px solid #ff4444;\n",
              "  font-weight: bold;\n",
              "  animation: lx-pulse 1s ease-in-out;\n",
              "}\n",
              "@keyframes lx-pulse {\n",
              "  0% { text-decoration-color: #ff4444; }\n",
              "  50% { text-decoration-color: #ff0000; }\n",
              "  100% { text-decoration-color: #ff4444; }\n",
              "}\n",
              ".lx-legend {\n",
              "  font-size: 12px; margin-bottom: 8px;\n",
              "  padding-bottom: 8px; border-bottom: 1px solid #e0e0e0;\n",
              "}\n",
              ".lx-label {\n",
              "  display: inline-block;\n",
              "  padding: 2px 4px;\n",
              "  border-radius: 3px;\n",
              "  margin-right: 4px;\n",
              "  color: #000;\n",
              "}\n",
              ".lx-attr-key {\n",
              "  font-weight: 600;\n",
              "  color: #1565c0;\n",
              "  letter-spacing: 0.3px;\n",
              "}\n",
              ".lx-attr-value {\n",
              "  font-weight: 400;\n",
              "  opacity: 0.85;\n",
              "  letter-spacing: 0.2px;\n",
              "}\n",
              "\n",
              "/* Add optimizations with larger fonts and better readability for GIFs */\n",
              ".lx-gif-optimized .lx-text-window { font-size: 16px; line-height: 1.8; }\n",
              ".lx-gif-optimized .lx-attributes-panel { font-size: 15px; }\n",
              ".lx-gif-optimized .lx-current-highlight { text-decoration-thickness: 4px; }\n",
              "</style>\n",
              "<div class=\"lx-animated-wrapper lx-gif-optimized\">\n",
              "  <div class=\"lx-attributes-panel\">\n",
              "    <div class=\"lx-legend\">Highlights Legend: <span class=\"lx-label\" style=\"background-color:#D2E3FC;\">emocion</span> <span class=\"lx-label\" style=\"background-color:#C8E6C9;\">personaje</span> <span class=\"lx-label\" style=\"background-color:#FEF0C3;\">relacion</span></div>\n",
              "    <div id=\"attributesContainer\"></div>\n",
              "  </div>\n",
              "  <div class=\"lx-text-window\" id=\"textWindow\">\n",
              "    <span class=\"lx-highlight lx-current-highlight\" data-idx=\"0\" style=\"background-color:#C8E6C9;\">Lady Julieta</span> contemplaba con anhelo las estrellas, <span class=\"lx-highlight\" data-idx=\"1\" style=\"background-color:#D2E3FC;\">su corazón dolía</span> <span class=\"lx-highlight\" data-idx=\"2\" style=\"background-color:#FEF0C3;\">por Romeo</span>\n",
              "  </div>\n",
              "  <div class=\"lx-controls\">\n",
              "    <div class=\"lx-button-row\">\n",
              "      <button class=\"lx-control-btn\" onclick=\"playPause()\">▶️ Play</button>\n",
              "      <button class=\"lx-control-btn\" onclick=\"prevExtraction()\">⏮ Previous</button>\n",
              "      <button class=\"lx-control-btn\" onclick=\"nextExtraction()\">⏭ Next</button>\n",
              "    </div>\n",
              "    <div class=\"lx-progress-container\">\n",
              "      <input type=\"range\" id=\"progressSlider\" class=\"lx-progress-slider\"\n",
              "             min=\"0\" max=\"2\" value=\"0\"\n",
              "             onchange=\"jumpToExtraction(this.value)\">\n",
              "    </div>\n",
              "    <div class=\"lx-status-text\">\n",
              "      Entity <span id=\"entityInfo\">1/3</span> |\n",
              "      Pos <span id=\"posInfo\">[0-12]</span>\n",
              "    </div>\n",
              "  </div>\n",
              "</div>\n",
              "\n",
              "<script>\n",
              "  (function() {\n",
              "    const extractions = [{\"index\": 0, \"class\": \"personaje\", \"text\": \"Lady Julieta\", \"color\": \"#C8E6C9\", \"startPos\": 0, \"endPos\": 12, \"beforeText\": \"\", \"extractionText\": \"Lady Julieta\", \"afterText\": \" contemplaba con anhelo las estrellas, su coraz\\u00f3n dol\\u00eda por Romeo\", \"attributesHtml\": \"<div><strong>class:</strong> personaje</div><div><strong>attributes:</strong> {<span class=\\\"lx-attr-key\\\">estado_emocional</span>: <span class=\\\"lx-attr-value\\\">anhelo</span>}</div>\"}, {\"index\": 1, \"class\": \"emocion\", \"text\": \"su coraz\\u00f3n dol\\u00eda\", \"color\": \"#D2E3FC\", \"startPos\": 51, \"endPos\": 67, \"beforeText\": \"Lady Julieta contemplaba con anhelo las estrellas, \", \"extractionText\": \"su coraz\\u00f3n dol\\u00eda\", \"afterText\": \" por Romeo\", \"attributesHtml\": \"<div><strong>class:</strong> emocion</div><div><strong>attributes:</strong> {<span class=\\\"lx-attr-key\\\">sentimiento</span>: <span class=\\\"lx-attr-value\\\">dolor</span>}</div>\"}, {\"index\": 2, \"class\": \"relacion\", \"text\": \"por Romeo\", \"color\": \"#FEF0C3\", \"startPos\": 68, \"endPos\": 77, \"beforeText\": \"Lady Julieta contemplaba con anhelo las estrellas, su coraz\\u00f3n dol\\u00eda \", \"extractionText\": \"por Romeo\", \"afterText\": \"\", \"attributesHtml\": \"<div><strong>class:</strong> relacion</div><div><strong>attributes:</strong> {<span class=\\\"lx-attr-key\\\">tipo</span>: <span class=\\\"lx-attr-value\\\">amor</span>}</div>\"}];\n",
              "    let currentIndex = 0;\n",
              "    let isPlaying = false;\n",
              "    let animationInterval = null;\n",
              "    let animationSpeed = 1.0;\n",
              "\n",
              "    function updateDisplay() {\n",
              "      const extraction = extractions[currentIndex];\n",
              "      if (!extraction) return;\n",
              "\n",
              "      document.getElementById('attributesContainer').innerHTML = extraction.attributesHtml;\n",
              "      document.getElementById('entityInfo').textContent = (currentIndex + 1) + '/' + extractions.length;\n",
              "      document.getElementById('posInfo').textContent = '[' + extraction.startPos + '-' + extraction.endPos + ']';\n",
              "      document.getElementById('progressSlider').value = currentIndex;\n",
              "\n",
              "      const playBtn = document.querySelector('.lx-control-btn');\n",
              "      if (playBtn) playBtn.textContent = isPlaying ? '⏸ Pause' : '▶️ Play';\n",
              "\n",
              "      const prevHighlight = document.querySelector('.lx-text-window .lx-current-highlight');\n",
              "      if (prevHighlight) prevHighlight.classList.remove('lx-current-highlight');\n",
              "      const currentSpan = document.querySelector('.lx-text-window span[data-idx=\"' + currentIndex + '\"]');\n",
              "      if (currentSpan) {\n",
              "        currentSpan.classList.add('lx-current-highlight');\n",
              "        currentSpan.scrollIntoView({block: 'center', behavior: 'smooth'});\n",
              "      }\n",
              "    }\n",
              "\n",
              "    function nextExtraction() {\n",
              "      currentIndex = (currentIndex + 1) % extractions.length;\n",
              "      updateDisplay();\n",
              "    }\n",
              "\n",
              "    function prevExtraction() {\n",
              "      currentIndex = (currentIndex - 1 + extractions.length) % extractions.length;\n",
              "      updateDisplay();\n",
              "    }\n",
              "\n",
              "    function jumpToExtraction(index) {\n",
              "      currentIndex = parseInt(index);\n",
              "      updateDisplay();\n",
              "    }\n",
              "\n",
              "    function playPause() {\n",
              "      if (isPlaying) {\n",
              "        clearInterval(animationInterval);\n",
              "        isPlaying = false;\n",
              "      } else {\n",
              "        animationInterval = setInterval(nextExtraction, animationSpeed * 1000);\n",
              "        isPlaying = true;\n",
              "      }\n",
              "      updateDisplay();\n",
              "    }\n",
              "\n",
              "    window.playPause = playPause;\n",
              "    window.nextExtraction = nextExtraction;\n",
              "    window.prevExtraction = prevExtraction;\n",
              "    window.jumpToExtraction = jumpToExtraction;\n",
              "\n",
              "    updateDisplay();\n",
              "  })();\n",
              "</script>"
            ]
          },
          "metadata": {}
        }
      ]
    },
    {
      "cell_type": "markdown",
      "metadata": {
        "id": "b9cdfd6b"
      },
      "source": [
        "¡Espero que este cuaderno te haya sido útil para iniciarte en la extracción de información con LangExtract y que te motive a explorar más a fondo las capacidades de Google Colab!\n",
        "\n",
        "Con Colab, podes aprovechar al máximo el potencial de este entorno para tus proyectos de PLN y mucho más.\n",
        "\n",
        "Para seguir aprendiendo sobre Google Colab y sus funcionalidades, te recomiendo visitar:\n",
        "[https://medium.com/google-colab](https://medium.com/google-colab)"
      ]
    },
    {
      "cell_type": "code",
      "metadata": {
        "colab": {
          "base_uri": "https://localhost:8080/",
          "height": 472
        },
        "id": "aa786cc3",
        "outputId": "1fcd7fd0-6b05-4b09-965b-2a07648ecb3d"
      },
      "source": [
        "from IPython.display import YouTubeVideo\n",
        "\n",
        "video_id = \"8VFYs3Ot_aA\"\n",
        "YouTubeVideo(video_id, width=800, height=450)"
      ],
      "execution_count": null,
      "outputs": [
        {
          "output_type": "execute_result",
          "data": {
            "text/plain": [
              "<IPython.lib.display.YouTubeVideo at 0x7e249ff222d0>"
            ],
            "text/html": [
              "\n",
              "        <iframe\n",
              "            width=\"800\"\n",
              "            height=\"450\"\n",
              "            src=\"https://www.youtube.com/embed/8VFYs3Ot_aA\"\n",
              "            frameborder=\"0\"\n",
              "            allowfullscreen\n",
              "            \n",
              "        ></iframe>\n",
              "        "
            ],
            "image/jpeg": "[encoded data removed]"
          },
          "metadata": {},
          "execution_count": 1
        }
      ]
    }
  ]
}